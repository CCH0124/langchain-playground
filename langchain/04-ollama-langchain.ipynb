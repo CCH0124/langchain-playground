{
 "cells": [
  {
   "cell_type": "code",
   "execution_count": 24,
   "id": "4a52381b",
   "metadata": {},
   "outputs": [
    {
     "name": "stdout",
     "output_type": "stream",
     "text": [
      "Defaulting to user installation because normal site-packages is not writeable\n",
      "Requirement already satisfied: langchain-community in /home/itachi/.local/lib/python3.11/site-packages (0.3.24)\n",
      "Requirement already satisfied: requests<3,>=2 in /home/itachi/.local/lib/python3.11/site-packages (from langchain-community) (2.32.3)\n",
      "Requirement already satisfied: numpy>=1.26.2 in /home/itachi/.local/lib/python3.11/site-packages (from langchain-community) (2.2.6)\n",
      "Requirement already satisfied: tenacity!=8.4.0,<10,>=8.1.0 in /home/itachi/.local/lib/python3.11/site-packages (from langchain-community) (9.1.2)\n",
      "Requirement already satisfied: langsmith<0.4,>=0.1.125 in /home/itachi/.local/lib/python3.11/site-packages (from langchain-community) (0.3.42)\n",
      "Requirement already satisfied: langchain<1.0.0,>=0.3.25 in /home/itachi/.local/lib/python3.11/site-packages (from langchain-community) (0.3.25)\n",
      "Requirement already satisfied: SQLAlchemy<3,>=1.4 in /home/itachi/.local/lib/python3.11/site-packages (from langchain-community) (2.0.41)\n",
      "Requirement already satisfied: httpx-sse<1.0.0,>=0.4.0 in /home/itachi/.local/lib/python3.11/site-packages (from langchain-community) (0.4.0)\n",
      "Requirement already satisfied: PyYAML>=5.3 in /usr/lib/python3/dist-packages (from langchain-community) (5.4.1)\n",
      "Requirement already satisfied: aiohttp<4.0.0,>=3.8.3 in /home/itachi/.local/lib/python3.11/site-packages (from langchain-community) (3.11.18)\n",
      "Requirement already satisfied: dataclasses-json<0.7,>=0.5.7 in /home/itachi/.local/lib/python3.11/site-packages (from langchain-community) (0.6.7)\n",
      "Requirement already satisfied: langchain-core<1.0.0,>=0.3.59 in /home/itachi/.local/lib/python3.11/site-packages (from langchain-community) (0.3.60)\n",
      "Requirement already satisfied: pydantic-settings<3.0.0,>=2.4.0 in /home/itachi/.local/lib/python3.11/site-packages (from langchain-community) (2.9.1)\n",
      "Requirement already satisfied: aiosignal>=1.1.2 in /home/itachi/.local/lib/python3.11/site-packages (from aiohttp<4.0.0,>=3.8.3->langchain-community) (1.3.2)\n",
      "Requirement already satisfied: attrs>=17.3.0 in /home/itachi/.local/lib/python3.11/site-packages (from aiohttp<4.0.0,>=3.8.3->langchain-community) (24.2.0)\n",
      "Requirement already satisfied: yarl<2.0,>=1.17.0 in /home/itachi/.local/lib/python3.11/site-packages (from aiohttp<4.0.0,>=3.8.3->langchain-community) (1.20.0)\n",
      "Requirement already satisfied: frozenlist>=1.1.1 in /home/itachi/.local/lib/python3.11/site-packages (from aiohttp<4.0.0,>=3.8.3->langchain-community) (1.6.0)\n",
      "Requirement already satisfied: aiohappyeyeballs>=2.3.0 in /home/itachi/.local/lib/python3.11/site-packages (from aiohttp<4.0.0,>=3.8.3->langchain-community) (2.6.1)\n",
      "Requirement already satisfied: multidict<7.0,>=4.5 in /home/itachi/.local/lib/python3.11/site-packages (from aiohttp<4.0.0,>=3.8.3->langchain-community) (6.4.3)\n",
      "Requirement already satisfied: propcache>=0.2.0 in /home/itachi/.local/lib/python3.11/site-packages (from aiohttp<4.0.0,>=3.8.3->langchain-community) (0.3.1)\n",
      "Requirement already satisfied: typing-inspect<1,>=0.4.0 in /home/itachi/.local/lib/python3.11/site-packages (from dataclasses-json<0.7,>=0.5.7->langchain-community) (0.9.0)\n",
      "Requirement already satisfied: marshmallow<4.0.0,>=3.18.0 in /home/itachi/.local/lib/python3.11/site-packages (from dataclasses-json<0.7,>=0.5.7->langchain-community) (3.26.1)\n",
      "Requirement already satisfied: pydantic<3.0.0,>=2.7.4 in /home/itachi/.local/lib/python3.11/site-packages (from langchain<1.0.0,>=0.3.25->langchain-community) (2.11.4)\n",
      "Requirement already satisfied: langchain-text-splitters<1.0.0,>=0.3.8 in /home/itachi/.local/lib/python3.11/site-packages (from langchain<1.0.0,>=0.3.25->langchain-community) (0.3.8)\n",
      "Requirement already satisfied: jsonpatch<2.0,>=1.33 in /home/itachi/.local/lib/python3.11/site-packages (from langchain-core<1.0.0,>=0.3.59->langchain-community) (1.33)\n",
      "Requirement already satisfied: typing-extensions>=4.7 in /home/itachi/.local/lib/python3.11/site-packages (from langchain-core<1.0.0,>=0.3.59->langchain-community) (4.12.2)\n",
      "Requirement already satisfied: packaging<25,>=23.2 in /home/itachi/.local/lib/python3.11/site-packages (from langchain-core<1.0.0,>=0.3.59->langchain-community) (24.2)\n",
      "Requirement already satisfied: requests-toolbelt<2.0.0,>=1.0.0 in /home/itachi/.local/lib/python3.11/site-packages (from langsmith<0.4,>=0.1.125->langchain-community) (1.0.0)\n",
      "Requirement already satisfied: zstandard<0.24.0,>=0.23.0 in /home/itachi/.local/lib/python3.11/site-packages (from langsmith<0.4,>=0.1.125->langchain-community) (0.23.0)\n",
      "Requirement already satisfied: orjson<4.0.0,>=3.9.14 in /home/itachi/.local/lib/python3.11/site-packages (from langsmith<0.4,>=0.1.125->langchain-community) (3.10.18)\n",
      "Requirement already satisfied: httpx<1,>=0.23.0 in /home/itachi/.local/lib/python3.11/site-packages (from langsmith<0.4,>=0.1.125->langchain-community) (0.27.2)\n",
      "Requirement already satisfied: typing-inspection>=0.4.0 in /home/itachi/.local/lib/python3.11/site-packages (from pydantic-settings<3.0.0,>=2.4.0->langchain-community) (0.4.0)\n",
      "Requirement already satisfied: python-dotenv>=0.21.0 in /home/itachi/.local/lib/python3.11/site-packages (from pydantic-settings<3.0.0,>=2.4.0->langchain-community) (1.1.0)\n",
      "Requirement already satisfied: idna<4,>=2.5 in /home/itachi/.local/lib/python3.11/site-packages (from requests<3,>=2->langchain-community) (3.10)\n",
      "Requirement already satisfied: charset-normalizer<4,>=2 in /home/itachi/.local/lib/python3.11/site-packages (from requests<3,>=2->langchain-community) (3.4.0)\n",
      "Requirement already satisfied: certifi>=2017.4.17 in /home/itachi/.local/lib/python3.11/site-packages (from requests<3,>=2->langchain-community) (2024.8.30)\n",
      "Requirement already satisfied: urllib3<3,>=1.21.1 in /home/itachi/.local/lib/python3.11/site-packages (from requests<3,>=2->langchain-community) (2.2.3)\n",
      "Requirement already satisfied: greenlet>=1 in /home/itachi/.local/lib/python3.11/site-packages (from SQLAlchemy<3,>=1.4->langchain-community) (3.2.2)\n",
      "Requirement already satisfied: anyio in /home/itachi/.local/lib/python3.11/site-packages (from httpx<1,>=0.23.0->langsmith<0.4,>=0.1.125->langchain-community) (4.6.2.post1)\n",
      "Requirement already satisfied: sniffio in /home/itachi/.local/lib/python3.11/site-packages (from httpx<1,>=0.23.0->langsmith<0.4,>=0.1.125->langchain-community) (1.3.1)\n",
      "Requirement already satisfied: httpcore==1.* in /home/itachi/.local/lib/python3.11/site-packages (from httpx<1,>=0.23.0->langsmith<0.4,>=0.1.125->langchain-community) (1.0.7)\n",
      "Requirement already satisfied: h11<0.15,>=0.13 in /home/itachi/.local/lib/python3.11/site-packages (from httpcore==1.*->httpx<1,>=0.23.0->langsmith<0.4,>=0.1.125->langchain-community) (0.14.0)\n",
      "Requirement already satisfied: jsonpointer>=1.9 in /home/itachi/.local/lib/python3.11/site-packages (from jsonpatch<2.0,>=1.33->langchain-core<1.0.0,>=0.3.59->langchain-community) (3.0.0)\n",
      "Requirement already satisfied: pydantic-core==2.33.2 in /home/itachi/.local/lib/python3.11/site-packages (from pydantic<3.0.0,>=2.7.4->langchain<1.0.0,>=0.3.25->langchain-community) (2.33.2)\n",
      "Requirement already satisfied: annotated-types>=0.6.0 in /home/itachi/.local/lib/python3.11/site-packages (from pydantic<3.0.0,>=2.7.4->langchain<1.0.0,>=0.3.25->langchain-community) (0.7.0)\n",
      "Requirement already satisfied: mypy-extensions>=0.3.0 in /home/itachi/.local/lib/python3.11/site-packages (from typing-inspect<1,>=0.4.0->dataclasses-json<0.7,>=0.5.7->langchain-community) (1.1.0)\n",
      "Note: you may need to restart the kernel to use updated packages.\n",
      "Defaulting to user installation because normal site-packages is not writeable\n",
      "Requirement already satisfied: pymupdf in /home/itachi/.local/lib/python3.11/site-packages (1.25.5)\n",
      "Collecting docarray\n",
      "  Downloading docarray-0.41.0-py3-none-any.whl (302 kB)\n",
      "\u001b[2K     \u001b[90m━━━━━━━━━━━━━━━━━━━━━━━━━━━━━━━━━━━━━━━\u001b[0m \u001b[32m302.8/302.8 KB\u001b[0m \u001b[31m2.4 MB/s\u001b[0m eta \u001b[36m0:00:00\u001b[0ma \u001b[36m0:00:01\u001b[0m\n",
      "\u001b[?25hRequirement already satisfied: numpy>=1.17.3 in /home/itachi/.local/lib/python3.11/site-packages (from docarray) (2.2.6)\n",
      "Requirement already satisfied: pydantic>=1.10.8 in /home/itachi/.local/lib/python3.11/site-packages (from docarray) (2.11.4)\n",
      "Collecting types-requests>=2.28.11.6\n",
      "  Downloading types_requests-2.32.0.20250515-py3-none-any.whl (20 kB)\n",
      "Requirement already satisfied: typing-inspect>=0.8.0 in /home/itachi/.local/lib/python3.11/site-packages (from docarray) (0.9.0)\n",
      "Collecting rich>=13.1.0\n",
      "  Downloading rich-14.0.0-py3-none-any.whl (243 kB)\n",
      "\u001b[2K     \u001b[90m━━━━━━━━━━━━━━━━━━━━━━━━━━━━━━━━━━━━━━\u001b[0m \u001b[32m243.2/243.2 KB\u001b[0m \u001b[31m13.6 MB/s\u001b[0m eta \u001b[36m0:00:00\u001b[0m\n",
      "\u001b[?25hRequirement already satisfied: orjson>=3.8.2 in /home/itachi/.local/lib/python3.11/site-packages (from docarray) (3.10.18)\n",
      "Requirement already satisfied: typing-extensions>=4.12.2 in /home/itachi/.local/lib/python3.11/site-packages (from pydantic>=1.10.8->docarray) (4.12.2)\n",
      "Requirement already satisfied: annotated-types>=0.6.0 in /home/itachi/.local/lib/python3.11/site-packages (from pydantic>=1.10.8->docarray) (0.7.0)\n",
      "Requirement already satisfied: pydantic-core==2.33.2 in /home/itachi/.local/lib/python3.11/site-packages (from pydantic>=1.10.8->docarray) (2.33.2)\n",
      "Requirement already satisfied: typing-inspection>=0.4.0 in /home/itachi/.local/lib/python3.11/site-packages (from pydantic>=1.10.8->docarray) (0.4.0)\n",
      "Collecting markdown-it-py>=2.2.0\n",
      "  Downloading markdown_it_py-3.0.0-py3-none-any.whl (87 kB)\n",
      "\u001b[2K     \u001b[90m━━━━━━━━━━━━━━━━━━━━━━━━━━━━━━━━━━━━━━━━\u001b[0m \u001b[32m87.5/87.5 KB\u001b[0m \u001b[31m12.7 MB/s\u001b[0m eta \u001b[36m0:00:00\u001b[0m\n",
      "\u001b[?25hRequirement already satisfied: pygments<3.0.0,>=2.13.0 in /home/itachi/.local/lib/python3.11/site-packages (from rich>=13.1.0->docarray) (2.18.0)\n",
      "Requirement already satisfied: urllib3>=2 in /home/itachi/.local/lib/python3.11/site-packages (from types-requests>=2.28.11.6->docarray) (2.2.3)\n",
      "Requirement already satisfied: mypy-extensions>=0.3.0 in /home/itachi/.local/lib/python3.11/site-packages (from typing-inspect>=0.8.0->docarray) (1.1.0)\n",
      "Collecting mdurl~=0.1\n",
      "  Downloading mdurl-0.1.2-py3-none-any.whl (10.0 kB)\n",
      "Installing collected packages: types-requests, mdurl, markdown-it-py, rich, docarray\n",
      "Successfully installed docarray-0.41.0 markdown-it-py-3.0.0 mdurl-0.1.2 rich-14.0.0 types-requests-2.32.0.20250515\n",
      "Note: you may need to restart the kernel to use updated packages.\n"
     ]
    }
   ],
   "source": [
    "%pip install -U langchain-community\n",
    "%pip install pymupdf docarray"
   ]
  },
  {
   "cell_type": "code",
   "execution_count": 10,
   "id": "5ce66f5a",
   "metadata": {},
   "outputs": [],
   "source": [
    "from langchain_community.document_loaders import PyMuPDFLoader\n",
    "loader = PyMuPDFLoader(\"./kubernetes-cheatsheet.pdf\")\n",
    "pages = loader.load()"
   ]
  },
  {
   "cell_type": "code",
   "execution_count": 22,
   "id": "0b8f6601",
   "metadata": {},
   "outputs": [
    {
     "data": {
      "text/plain": [
       "Document(metadata={'producer': 'PDFium', 'creator': 'PDFium', 'creationdate': 'D:20250518155345', 'source': './kubernetes-cheatsheet.pdf', 'file_path': './kubernetes-cheatsheet.pdf', 'total_pages': 1, 'format': 'PDF 1.7', 'title': '', 'author': '', 'subject': '', 'keywords': '', 'moddate': '', 'trapped': '', 'modDate': '', 'creationDate': 'D:20250518155345', 'page': 0}, page_content=\"Kubernetes Cheatsheet\\nWhat is Kubernetes \\nKapsule and \\nKubernetes Kosmos?\\nKubernetes is an open-source platform \\nthat enables developers to manage their \\ncontainerized applications. Kapsule and \\nKosmo both provide a managed \\nenvironment for creating, configuring,\\nand running clusters of pre-configured \\nmachines.\\u2028\\nKapsule clusters are composed solely of \\nScaleway Instances whereas Kosmos is a \\nmanaged Multi-Cloud Kubernetes Engine \\nthat allows you to connect Instances and \\nvirtual or dedicated servers from any \\ncloud provider to a single managed \\nControl-Plane.\\nViewing and finding \\nresources\\nNODES\\n# Display all node information\\nkubectl get no\\n# Show more information about all nodes\\nkubectl get no -o wide\\n# Display node details with verbose output\\nkubectl describe no\\n# Filter the node with the specified label\\nkubectl get node --\\nselector=[label_name]\\n# Display node (CPU/memory) usage\\nkubectl top node [node_name]\\nPODS\\n# Display all container group information\\nkubectl get po\\n# Show more information about all pods\\nkubectl get po -o wide\\n# Display pod details with verbose output\\nkubectl describe po\\n# View the labels of the container group\\nkubectl get po --show-labels\\n# Display pod usage (CPU/memory)\\nkubectl top pod [pod_name]\\nNAMESPACE\\n# Display all namespace information\\nkubectl get ns\\n# Display namespace details\\nkubectl describe ns\\nDEPLOYMENTS\\n# Display all deployments information\\nkubectl get deploy\\n# Display deployments details\\nkubectl describe deploy\\n# Show more information about all \\ndeployments\\nkubectl get deploy -o wide\\nSERVICES\\n# Display all services information\\nkubectl get svc\\n# Display services details\\nkubectl describe svc\\n# Show more information about all services\\nkubectl get svc -o wide\\n# Display a pod’s label\\nkubectl get svc --show-labels\\nDAEMON SETS\\n# Display all daemon sets information\\nkubectl get ds\\n# Display the detailed state of daemonsets \\nwithin all namespace\\nkubectl describe ds --all-\\nnamespaces\\n# Display the detailed state of daemonsets \\nwithin a namespace\\nkubectl describe ds \\n[daemonset_name] -n \\n[namespace_name]\\nEVENTS\\n# Display all events information\\nkubectl get events\\n# Display events information within the \\nnamespace kube-system\\nkubectl get events -n kube-system\\n# Lists the specific resources' events or the \\nentire cluster\\nkubectl get events -w\\nLOGS\\n# Display all logs information of a specific pod\\nkubectl logs [pod_name]\\n# Display all logs information of a specific pod \\nfor the past hour\\nkubectl logs --since=1h \\n[pod_name]\\n# Display all logs information of a specific pod \\nin a specific container\\nkubectl logs -f -c \\n[container_name] [pod_name]\\n# Transfer all logs information of a specific \\npod in the pod.log file\\nkubectl logs [pod_name] > pod.log\\nSERVICE ACCOUNT\\n# Display all service account information\\nkubectl get sa\\nREPLICA SETS\\n# Display all replica sets information\\nkubectl get rs\\n# Display replicat sets details\\nkubectl describe rs\\n# Show more information about replica sets\\nkubectl get rs -o wide\\nROLES\\n# Display all roles information within all \\nnamespaces\\nkubectl get roles --all-\\nnamespaces\\nSECRETS\\n# Display all secrets information\\nkubectl get secrets\\n# Display all secrets information within all \\nnamespaces\\nkubectl get secrets --all-\\nnamespaces\\nCONFIG MAPS\\n# Display all config maps information\\nkubectl get cm\\n# Display all config maps within all \\nnamespaces\\nkubectl get cm --all-namespaces\\nINGRESS\\n# Display all ingress information\\nkubectl get ing\\n# Display all ingress information within all \\nnamespaces\\nkubectl get ing --all-namespaces\\nPERSISTENT VOLUMES\\n# Display all persistent volumes information\\nkubectl get pv\\n# Display persistent volumes details\\nkubectl describe pv\\nPERSISTENT VOLUME CLAIM\\n# Display all persistent volume claim \\ninformation\\nkubectl get pvc\\n# Display all persistent volume claim details\\nkubectl describe pvc\\nSTORAGE CLASS\\n# Display all storage class information\\nkubectl get sc\\nMULTIPLE RESOURCES\\n# Display all services and pods information\\nkubectl get svc, po\\n# Display all deploys and nodes information\\nkubectl get deploy, no\\n# Display all the pods, services, statefulsets, \\netc. in a namespace. Not all the resources are \\nlisted using this command.\\nkubectl get all\\n# Display all the pods, services, statefulsets, \\netc. in all namespaces. Not all the resources \\nare listed using this command.\\nkubectl get all --all-namespaces\\nCreating resources\\n# Create resource(s) from file\\nkubectl apply -f [manifest].yaml\\nUpdating resources\\n# Apply a taint that has a key-value of \\ntaint=test with a NoSchedule effect\\nkubectl taint nodes [node-name] \\ntaint=test:NoSchedule\\n# Mark node as unschedulable\\nkubectl cordon [node-name]\\n# Mark node as schedulable\\nkubectl uncordon [node-name]\\n# Drain node in preparation for maintenance\\nkubectl drain [node-name]\")"
      ]
     },
     "execution_count": 22,
     "metadata": {},
     "output_type": "execute_result"
    }
   ],
   "source": [
    "pages[0]"
   ]
  },
  {
   "cell_type": "code",
   "execution_count": 12,
   "id": "683787bf",
   "metadata": {},
   "outputs": [],
   "source": [
    "from langchain_ollama import OllamaEmbeddings\n",
    "embeddings = OllamaEmbeddings(model=\"llama3\")"
   ]
  },
  {
   "cell_type": "code",
   "execution_count": null,
   "id": "3d4e2d13",
   "metadata": {},
   "outputs": [
    {
     "name": "stderr",
     "output_type": "stream",
     "text": [
      "/home/itachi/.local/lib/python3.11/site-packages/pydantic/_migration.py:283: UserWarning: `pydantic.error_wrappers:ValidationError` has been moved to `pydantic:ValidationError`.\n",
      "  warnings.warn(f'`{import_path}` has been moved to `{new_location}`.')\n"
     ]
    }
   ],
   "source": [
    "from langchain.indexes import VectorstoreIndexCreator\n",
    "from langchain.vectorstores import DocArrayInMemorySearch\n",
    "index_creator = VectorstoreIndexCreator( # 一鍵建立 index + retriever\n",
    "    vectorstore_cls=DocArrayInMemorySearch, # \t記憶體內向量資料庫\n",
    "    embedding=embeddings)\n",
    "index = index_creator.from_documents(pages)"
   ]
  },
  {
   "cell_type": "code",
   "execution_count": 26,
   "id": "66241b06",
   "metadata": {},
   "outputs": [],
   "source": [
    "query =\"how to use Kubernetes LOGS  ?\""
   ]
  },
  {
   "cell_type": "code",
   "execution_count": 27,
   "id": "a54afee0",
   "metadata": {},
   "outputs": [],
   "source": [
    "from langchain_ollama.llms import OllamaLLM\n",
    "chat = OllamaLLM(temperature=0.0, model=\"llama3\")"
   ]
  },
  {
   "cell_type": "code",
   "execution_count": 28,
   "id": "af33fa2a",
   "metadata": {},
   "outputs": [],
   "source": [
    "response = index.query(query, llm = chat)"
   ]
  },
  {
   "cell_type": "code",
   "execution_count": 29,
   "id": "34898dd1",
   "metadata": {},
   "outputs": [
    {
     "data": {
      "text/markdown": [
       "To use Kubernetes logs, you can use the `kubectl logs` command. This command allows you to view the logs of a specific pod or node.\n",
       "\n",
       "Here are some examples of how to use `kubectl logs`:\n",
       "\n",
       "* To view the logs of a specific pod:\n",
       "```\n",
       "kubectl logs [pod_name]\n",
       "```\n",
       "This will display the logs for the specified pod.\n",
       "\n",
       "* To view the logs of a specific node:\n",
       "```\n",
       "kubectl logs [node_name] -n [namespace]\n",
       "```\n",
       "This will display the logs for the specified node in the specified namespace.\n",
       "\n",
       "* To follow the logs of a specific pod or node:\n",
       "```\n",
       "kubectl logs [pod_name] --follow\n",
       "```\n",
       "This will allow you to view the logs as they are generated, rather than just displaying the existing logs.\n",
       "\n",
       "* To view the logs of all pods in a namespace:\n",
       "```\n",
       "kubectl logs -n [namespace]\n",
       "```\n",
       "This will display the logs for all pods in the specified namespace.\n",
       "\n",
       "Note: You can also use `kubectl logs` with other options to customize your log viewing experience. For example, you can specify a specific container or log level using the `-c` and `-l` options respectively."
      ],
      "text/plain": [
       "<IPython.core.display.Markdown object>"
      ]
     },
     "metadata": {},
     "output_type": "display_data"
    }
   ],
   "source": [
    "from IPython.display import display, Markdown\n",
    "display(Markdown(response))"
   ]
  },
  {
   "cell_type": "code",
   "execution_count": 30,
   "id": "b61cde47",
   "metadata": {},
   "outputs": [],
   "source": [
    "db = DocArrayInMemorySearch.from_documents(\n",
    "    pages, \n",
    "    embeddings\n",
    ")\n",
    "retriever = db.as_retriever()"
   ]
  },
  {
   "cell_type": "code",
   "execution_count": 31,
   "id": "c33db83e",
   "metadata": {},
   "outputs": [],
   "source": [
    "from langchain.prompts import ChatPromptTemplate\n",
    "system_prompt = (\n",
    "    \"Use the given context to answer the question. \"\n",
    "    \"If you don't know the answer, say you don't know. \"\n",
    "    \"Use three sentence maximum and keep the answer concise. \"\n",
    "    \"Context: {context}\"\n",
    ")\n",
    "prompt = ChatPromptTemplate.from_messages(\n",
    "    [\n",
    "        (\"system\", system_prompt),\n",
    "        (\"human\", \"{input}\"),\n",
    "    ]\n",
    ")"
   ]
  },
  {
   "cell_type": "code",
   "execution_count": 32,
   "id": "2ae6420b",
   "metadata": {},
   "outputs": [
    {
     "data": {
      "text/plain": [
       "{'input': 'how to use Kubernetes LOGS  ?',\n",
       " 'context': [Document(metadata={'producer': 'PDFium', 'creator': 'PDFium', 'creationdate': 'D:20250518155345', 'source': './kubernetes-cheatsheet.pdf', 'file_path': './kubernetes-cheatsheet.pdf', 'total_pages': 1, 'format': 'PDF 1.7', 'title': '', 'author': '', 'subject': '', 'keywords': '', 'moddate': '', 'trapped': '', 'modDate': '', 'creationDate': 'D:20250518155345', 'page': 0}, page_content=\"Kubernetes Cheatsheet\\nWhat is Kubernetes \\nKapsule and \\nKubernetes Kosmos?\\nKubernetes is an open-source platform \\nthat enables developers to manage their \\ncontainerized applications. Kapsule and \\nKosmo both provide a managed \\nenvironment for creating, configuring,\\nand running clusters of pre-configured \\nmachines.\\u2028\\nKapsule clusters are composed solely of \\nScaleway Instances whereas Kosmos is a \\nmanaged Multi-Cloud Kubernetes Engine \\nthat allows you to connect Instances and \\nvirtual or dedicated servers from any \\ncloud provider to a single managed \\nControl-Plane.\\nViewing and finding \\nresources\\nNODES\\n# Display all node information\\nkubectl get no\\n# Show more information about all nodes\\nkubectl get no -o wide\\n# Display node details with verbose output\\nkubectl describe no\\n# Filter the node with the specified label\\nkubectl get node --\\nselector=[label_name]\\n# Display node (CPU/memory) usage\\nkubectl top node [node_name]\\nPODS\\n# Display all container group information\\nkubectl get po\\n# Show more information about all pods\\nkubectl get po -o wide\\n# Display pod details with verbose output\\nkubectl describe po\\n# View the labels of the container group\\nkubectl get po --show-labels\\n# Display pod usage (CPU/memory)\\nkubectl top pod [pod_name]\\nNAMESPACE\\n# Display all namespace information\\nkubectl get ns\\n# Display namespace details\\nkubectl describe ns\\nDEPLOYMENTS\\n# Display all deployments information\\nkubectl get deploy\\n# Display deployments details\\nkubectl describe deploy\\n# Show more information about all \\ndeployments\\nkubectl get deploy -o wide\\nSERVICES\\n# Display all services information\\nkubectl get svc\\n# Display services details\\nkubectl describe svc\\n# Show more information about all services\\nkubectl get svc -o wide\\n# Display a pod’s label\\nkubectl get svc --show-labels\\nDAEMON SETS\\n# Display all daemon sets information\\nkubectl get ds\\n# Display the detailed state of daemonsets \\nwithin all namespace\\nkubectl describe ds --all-\\nnamespaces\\n# Display the detailed state of daemonsets \\nwithin a namespace\\nkubectl describe ds \\n[daemonset_name] -n \\n[namespace_name]\\nEVENTS\\n# Display all events information\\nkubectl get events\\n# Display events information within the \\nnamespace kube-system\\nkubectl get events -n kube-system\\n# Lists the specific resources' events or the \\nentire cluster\\nkubectl get events -w\\nLOGS\\n# Display all logs information of a specific pod\\nkubectl logs [pod_name]\\n# Display all logs information of a specific pod \\nfor the past hour\\nkubectl logs --since=1h \\n[pod_name]\\n# Display all logs information of a specific pod \\nin a specific container\\nkubectl logs -f -c \\n[container_name] [pod_name]\\n# Transfer all logs information of a specific \\npod in the pod.log file\\nkubectl logs [pod_name] > pod.log\\nSERVICE ACCOUNT\\n# Display all service account information\\nkubectl get sa\\nREPLICA SETS\\n# Display all replica sets information\\nkubectl get rs\\n# Display replicat sets details\\nkubectl describe rs\\n# Show more information about replica sets\\nkubectl get rs -o wide\\nROLES\\n# Display all roles information within all \\nnamespaces\\nkubectl get roles --all-\\nnamespaces\\nSECRETS\\n# Display all secrets information\\nkubectl get secrets\\n# Display all secrets information within all \\nnamespaces\\nkubectl get secrets --all-\\nnamespaces\\nCONFIG MAPS\\n# Display all config maps information\\nkubectl get cm\\n# Display all config maps within all \\nnamespaces\\nkubectl get cm --all-namespaces\\nINGRESS\\n# Display all ingress information\\nkubectl get ing\\n# Display all ingress information within all \\nnamespaces\\nkubectl get ing --all-namespaces\\nPERSISTENT VOLUMES\\n# Display all persistent volumes information\\nkubectl get pv\\n# Display persistent volumes details\\nkubectl describe pv\\nPERSISTENT VOLUME CLAIM\\n# Display all persistent volume claim \\ninformation\\nkubectl get pvc\\n# Display all persistent volume claim details\\nkubectl describe pvc\\nSTORAGE CLASS\\n# Display all storage class information\\nkubectl get sc\\nMULTIPLE RESOURCES\\n# Display all services and pods information\\nkubectl get svc, po\\n# Display all deploys and nodes information\\nkubectl get deploy, no\\n# Display all the pods, services, statefulsets, \\netc. in a namespace. Not all the resources are \\nlisted using this command.\\nkubectl get all\\n# Display all the pods, services, statefulsets, \\netc. in all namespaces. Not all the resources \\nare listed using this command.\\nkubectl get all --all-namespaces\\nCreating resources\\n# Create resource(s) from file\\nkubectl apply -f [manifest].yaml\\nUpdating resources\\n# Apply a taint that has a key-value of \\ntaint=test with a NoSchedule effect\\nkubectl taint nodes [node-name] \\ntaint=test:NoSchedule\\n# Mark node as unschedulable\\nkubectl cordon [node-name]\\n# Mark node as schedulable\\nkubectl uncordon [node-name]\\n# Drain node in preparation for maintenance\\nkubectl drain [node-name]\")],\n",
       " 'answer': 'You can use the `kubectl logs` command to view logs of a specific pod. For example, to display all logs information of a specific pod, you can run `kubectl logs [pod_name]`. To display all logs information of a specific pod for the past hour, you can run `kubectl logs --since=1h [pod_name]`.'}"
      ]
     },
     "execution_count": 32,
     "metadata": {},
     "output_type": "execute_result"
    }
   ],
   "source": [
    "from langchain.chains import create_retrieval_chain\n",
    "from langchain.chains.combine_documents import create_stuff_documents_chain\n",
    "question_answer_chain = create_stuff_documents_chain(chat, prompt)\n",
    "chain = create_retrieval_chain(retriever, question_answer_chain)\n",
    "\n",
    "chain.invoke({\"input\": query})"
   ]
  },
  {
   "cell_type": "code",
   "execution_count": 33,
   "id": "b355bac7",
   "metadata": {},
   "outputs": [
    {
     "data": {
      "text/plain": [
       "{'input': 'How to get Database',\n",
       " 'context': [Document(metadata={'producer': 'PDFium', 'creator': 'PDFium', 'creationdate': 'D:20250518155345', 'source': './kubernetes-cheatsheet.pdf', 'file_path': './kubernetes-cheatsheet.pdf', 'total_pages': 1, 'format': 'PDF 1.7', 'title': '', 'author': '', 'subject': '', 'keywords': '', 'moddate': '', 'trapped': '', 'modDate': '', 'creationDate': 'D:20250518155345', 'page': 0}, page_content=\"Kubernetes Cheatsheet\\nWhat is Kubernetes \\nKapsule and \\nKubernetes Kosmos?\\nKubernetes is an open-source platform \\nthat enables developers to manage their \\ncontainerized applications. Kapsule and \\nKosmo both provide a managed \\nenvironment for creating, configuring,\\nand running clusters of pre-configured \\nmachines.\\u2028\\nKapsule clusters are composed solely of \\nScaleway Instances whereas Kosmos is a \\nmanaged Multi-Cloud Kubernetes Engine \\nthat allows you to connect Instances and \\nvirtual or dedicated servers from any \\ncloud provider to a single managed \\nControl-Plane.\\nViewing and finding \\nresources\\nNODES\\n# Display all node information\\nkubectl get no\\n# Show more information about all nodes\\nkubectl get no -o wide\\n# Display node details with verbose output\\nkubectl describe no\\n# Filter the node with the specified label\\nkubectl get node --\\nselector=[label_name]\\n# Display node (CPU/memory) usage\\nkubectl top node [node_name]\\nPODS\\n# Display all container group information\\nkubectl get po\\n# Show more information about all pods\\nkubectl get po -o wide\\n# Display pod details with verbose output\\nkubectl describe po\\n# View the labels of the container group\\nkubectl get po --show-labels\\n# Display pod usage (CPU/memory)\\nkubectl top pod [pod_name]\\nNAMESPACE\\n# Display all namespace information\\nkubectl get ns\\n# Display namespace details\\nkubectl describe ns\\nDEPLOYMENTS\\n# Display all deployments information\\nkubectl get deploy\\n# Display deployments details\\nkubectl describe deploy\\n# Show more information about all \\ndeployments\\nkubectl get deploy -o wide\\nSERVICES\\n# Display all services information\\nkubectl get svc\\n# Display services details\\nkubectl describe svc\\n# Show more information about all services\\nkubectl get svc -o wide\\n# Display a pod’s label\\nkubectl get svc --show-labels\\nDAEMON SETS\\n# Display all daemon sets information\\nkubectl get ds\\n# Display the detailed state of daemonsets \\nwithin all namespace\\nkubectl describe ds --all-\\nnamespaces\\n# Display the detailed state of daemonsets \\nwithin a namespace\\nkubectl describe ds \\n[daemonset_name] -n \\n[namespace_name]\\nEVENTS\\n# Display all events information\\nkubectl get events\\n# Display events information within the \\nnamespace kube-system\\nkubectl get events -n kube-system\\n# Lists the specific resources' events or the \\nentire cluster\\nkubectl get events -w\\nLOGS\\n# Display all logs information of a specific pod\\nkubectl logs [pod_name]\\n# Display all logs information of a specific pod \\nfor the past hour\\nkubectl logs --since=1h \\n[pod_name]\\n# Display all logs information of a specific pod \\nin a specific container\\nkubectl logs -f -c \\n[container_name] [pod_name]\\n# Transfer all logs information of a specific \\npod in the pod.log file\\nkubectl logs [pod_name] > pod.log\\nSERVICE ACCOUNT\\n# Display all service account information\\nkubectl get sa\\nREPLICA SETS\\n# Display all replica sets information\\nkubectl get rs\\n# Display replicat sets details\\nkubectl describe rs\\n# Show more information about replica sets\\nkubectl get rs -o wide\\nROLES\\n# Display all roles information within all \\nnamespaces\\nkubectl get roles --all-\\nnamespaces\\nSECRETS\\n# Display all secrets information\\nkubectl get secrets\\n# Display all secrets information within all \\nnamespaces\\nkubectl get secrets --all-\\nnamespaces\\nCONFIG MAPS\\n# Display all config maps information\\nkubectl get cm\\n# Display all config maps within all \\nnamespaces\\nkubectl get cm --all-namespaces\\nINGRESS\\n# Display all ingress information\\nkubectl get ing\\n# Display all ingress information within all \\nnamespaces\\nkubectl get ing --all-namespaces\\nPERSISTENT VOLUMES\\n# Display all persistent volumes information\\nkubectl get pv\\n# Display persistent volumes details\\nkubectl describe pv\\nPERSISTENT VOLUME CLAIM\\n# Display all persistent volume claim \\ninformation\\nkubectl get pvc\\n# Display all persistent volume claim details\\nkubectl describe pvc\\nSTORAGE CLASS\\n# Display all storage class information\\nkubectl get sc\\nMULTIPLE RESOURCES\\n# Display all services and pods information\\nkubectl get svc, po\\n# Display all deploys and nodes information\\nkubectl get deploy, no\\n# Display all the pods, services, statefulsets, \\netc. in a namespace. Not all the resources are \\nlisted using this command.\\nkubectl get all\\n# Display all the pods, services, statefulsets, \\netc. in all namespaces. Not all the resources \\nare listed using this command.\\nkubectl get all --all-namespaces\\nCreating resources\\n# Create resource(s) from file\\nkubectl apply -f [manifest].yaml\\nUpdating resources\\n# Apply a taint that has a key-value of \\ntaint=test with a NoSchedule effect\\nkubectl taint nodes [node-name] \\ntaint=test:NoSchedule\\n# Mark node as unschedulable\\nkubectl cordon [node-name]\\n# Mark node as schedulable\\nkubectl uncordon [node-name]\\n# Drain node in preparation for maintenance\\nkubectl drain [node-name]\")],\n",
       " 'answer': \"I don't know. The context is about Kubernetes commands and doesn't mention databases.\"}"
      ]
     },
     "execution_count": 33,
     "metadata": {},
     "output_type": "execute_result"
    }
   ],
   "source": [
    "chain.invoke({\"input\": \"How to get Database\"})"
   ]
  }
 ],
 "metadata": {
  "kernelspec": {
   "display_name": "Python 3",
   "language": "python",
   "name": "python3"
  },
  "language_info": {
   "codemirror_mode": {
    "name": "ipython",
    "version": 3
   },
   "file_extension": ".py",
   "mimetype": "text/x-python",
   "name": "python",
   "nbconvert_exporter": "python",
   "pygments_lexer": "ipython3",
   "version": "3.11.0"
  }
 },
 "nbformat": 4,
 "nbformat_minor": 5
}
