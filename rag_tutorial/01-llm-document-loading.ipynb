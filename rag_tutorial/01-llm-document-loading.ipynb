{
 "cells": [
  {
   "cell_type": "markdown",
   "id": "9ebf288c",
   "metadata": {},
   "source": [
    "## Document Loading\n",
    "### Loaders\n",
    "\n",
    "Loaders 處理存取與轉換資料的細節：\n",
    "\n",
    "- 存取來源（Accessing）：\n",
    "    - 網站（Web Sites）\n",
    "    - 資料庫（Data Bases）\n",
    "    - YouTube\n",
    "    - arXiv 論文平台\n",
    "    - ...\n",
    "- 支援的資料格式（Data Types）：\n",
    "    - PDF 檔案\n",
    "    - HTML 頁面\n",
    "    - JSON 檔案\n",
    "    - Word、PowerPoint 等 Office 文件\n",
    "\n",
    "會回傳一個 `Document` 物件陣列\n",
    "\n",
    "- https://python.langchain.com/docs/integrations/document_loaders/\n",
    "\n",
    "### Retrieval augmented generation\n",
    "In retrieval augmented generation (RAG), an LLM retrieves contextual documents from an external dataset as part of its execution.\n",
    "\n",
    "This is useful if we want to ask question about specific documents (e.g., our PDFs, a set of videos, etc).\n",
    "\n",
    "![]()"
   ]
  },
  {
   "cell_type": "code",
   "execution_count": 2,
   "id": "f1e155ba",
   "metadata": {},
   "outputs": [],
   "source": [
    "from langchain_community.document_loaders import PyMuPDFLoader\n",
    "loader = PyMuPDFLoader(\"./kubernetes-cheatsheet.pdf\")\n",
    "pages = loader.load() # Each page is a Document. A Document contains text (page_content) and metadata."
   ]
  },
  {
   "cell_type": "code",
   "execution_count": 5,
   "id": "59d2ae7a",
   "metadata": {},
   "outputs": [
    {
     "name": "stdout",
     "output_type": "stream",
     "text": [
      "Kubernetes Cheatsheet\n",
      "What is Kubernetes \n",
      "Kapsule and \n",
      "Kubernetes Kosmos?\n",
      "Kubernetes is an open-source platform \n",
      "that enables developers to manage their \n",
      "containerized applications. Kapsule and \n",
      "Kosmo both provide a managed \n",
      "environment for creating,\n"
     ]
    }
   ],
   "source": [
    "page = pages[0]\n",
    "print(page.page_content[0:250])"
   ]
  },
  {
   "cell_type": "code",
   "execution_count": 6,
   "id": "7d22bb15",
   "metadata": {},
   "outputs": [
    {
     "name": "stdout",
     "output_type": "stream",
     "text": [
      "{'producer': 'PDFium', 'creator': 'PDFium', 'creationdate': 'D:20250518155345', 'source': './kubernetes-cheatsheet.pdf', 'file_path': './kubernetes-cheatsheet.pdf', 'total_pages': 1, 'format': 'PDF 1.7', 'title': '', 'author': '', 'subject': '', 'keywords': '', 'moddate': '', 'trapped': '', 'modDate': '', 'creationDate': 'D:20250518155345', 'page': 0}\n"
     ]
    }
   ],
   "source": [
    "print(page.metadata)"
   ]
  },
  {
   "cell_type": "markdown",
   "id": "29195656",
   "metadata": {},
   "source": [
    "## WebBaseLoader"
   ]
  },
  {
   "cell_type": "code",
   "execution_count": 2,
   "id": "0e0ffb2d",
   "metadata": {},
   "outputs": [],
   "source": [
    "from langchain_community.document_loaders import WebBaseLoader\n",
    "loader = WebBaseLoader(\"https://kubernetes.io/\")"
   ]
  },
  {
   "cell_type": "code",
   "execution_count": 5,
   "id": "c60a508c",
   "metadata": {},
   "outputs": [
    {
     "name": "stdout",
     "output_type": "stream",
     "text": [
      "1\n"
     ]
    }
   ],
   "source": [
    "docs = loader.load()\n",
    "print(len(docs))"
   ]
  },
  {
   "cell_type": "code",
   "execution_count": null,
   "id": "82bae387",
   "metadata": {},
   "outputs": [
    {
     "name": "stdout",
     "output_type": "stream",
     "text": [
      "Kubernetes\n",
      "KubernetesDocumentationKubernetes BlogTrainingPartnersCommunityCase StudiesVersionsRelease Information\n",
      "v1.33\n",
      "v1.32\n",
      "v1.31\n",
      "v1.30\n",
      "v1.29Englishবাংলা (Bengali)\n",
      "中文 (Chinese)\n",
      "Français (French)\n",
      "Deutsch (German)\n",
      "हिन्दी (Hindi)\n",
      "Bahasa Indonesia (Indonesian)\n",
      "Italiano (Italian)\n",
      "日本語 (Japanese)\n",
      "한국어 (Korean)\n",
      "Polski (Polish)\n",
      "Português (Portuguese)\n",
      "Русский (Russian)\n",
      "Español (Spanish)\n",
      "Українська (Ukrainian)\n",
      "Tiếng Việt (Vietnamese)\n",
      "Production-Grade Container OrchestrationLearn Kubernetes Basics\n",
      "Kubernet\n"
     ]
    }
   ],
   "source": [
    "print(docs[0].page_content[:500])"
   ]
  }
 ],
 "metadata": {
  "kernelspec": {
   "display_name": "Python 3",
   "language": "python",
   "name": "python3"
  },
  "language_info": {
   "codemirror_mode": {
    "name": "ipython",
    "version": 3
   },
   "file_extension": ".py",
   "mimetype": "text/x-python",
   "name": "python",
   "nbconvert_exporter": "python",
   "pygments_lexer": "ipython3",
   "version": "3.11.0"
  }
 },
 "nbformat": 4,
 "nbformat_minor": 5
}
