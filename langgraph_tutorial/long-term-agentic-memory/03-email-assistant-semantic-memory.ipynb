{
 "cells": [
  {
   "cell_type": "code",
   "execution_count": 163,
   "id": "9a549f57",
   "metadata": {},
   "outputs": [],
   "source": [
    "from langchain_ollama import ChatOllama\n",
    "\n",
    "llm = ChatOllama(\n",
    "    model = \"llama3.2\",\n",
    "    reasoning=False,\n",
    "    temperature = 0.1,\n",
    ")"
   ]
  },
  {
   "cell_type": "code",
   "execution_count": 164,
   "id": "0cea19f0",
   "metadata": {},
   "outputs": [],
   "source": [
    "from typing_extensions import Literal\n",
    "from pydantic import BaseModel, Field\n",
    "\n",
    "\n",
    "class Router(BaseModel):\n",
    "    \"\"\"Analyze the unread email and route it according to its content.\"\"\"\n",
    "\n",
    "    reasoning: str = Field(\n",
    "        description=\"Step-by-step reasoning behind the classification.\"\n",
    "    )\n",
    "    classification: Literal[\"ignore\", \"respond\", \"notify\"] = Field(\n",
    "        description=\"The classification of an email: 'ignore' for irrelevant emails, \"\n",
    "        \"'notify' for important information that doesn't need a response, \"\n",
    "        \"'respond' for emails that need a reply\",\n",
    "    )\n"
   ]
  },
  {
   "cell_type": "code",
   "execution_count": 165,
   "id": "698656b1",
   "metadata": {},
   "outputs": [
    {
     "data": {
      "text/plain": [
       "RunnableBinding(bound=ChatOllama(model='llama3.2', reasoning=False, temperature=0.1), kwargs={'format': {'description': 'Analyze the unread email and route it according to its content.', 'properties': {'reasoning': {'description': 'Step-by-step reasoning behind the classification.', 'title': 'Reasoning', 'type': 'string'}, 'classification': {'description': \"The classification of an email: 'ignore' for irrelevant emails, 'notify' for important information that doesn't need a response, 'respond' for emails that need a reply\", 'enum': ['ignore', 'respond', 'notify'], 'title': 'Classification', 'type': 'string'}}, 'required': ['reasoning', 'classification'], 'title': 'Router', 'type': 'object'}, 'ls_structured_output_format': {'kwargs': {'method': 'json_schema'}, 'schema': <class '__main__.Router'>}}, config={}, config_factories=[])\n",
       "| PydanticOutputParser(pydantic_object=<class '__main__.Router'>)"
      ]
     },
     "execution_count": 165,
     "metadata": {},
     "output_type": "execute_result"
    }
   ],
   "source": [
    "llm_router = llm.with_structured_output(Router)\n",
    "llm_router"
   ]
  },
  {
   "cell_type": "code",
   "execution_count": 166,
   "id": "86054f7a",
   "metadata": {},
   "outputs": [],
   "source": [
    "profile = {\n",
    "    \"name\": \"John\",\n",
    "    \"full_name\": \"John Doe\",\n",
    "    \"user_profile_background\": \"Senior software engineer leading a team of 5 developers\",\n",
    "}"
   ]
  },
  {
   "cell_type": "code",
   "execution_count": 167,
   "id": "127504a2",
   "metadata": {},
   "outputs": [],
   "source": [
    "prompt_instructions = {\n",
    "    \"triage_rules\": {\n",
    "        \"ignore\": \"Marketing newsletters, spam emails, mass company announcements\",\n",
    "        \"notify\": \"Team member out sick, build system notifications, project status updates\",\n",
    "        \"respond\": \"Direct questions from team members, meeting requests, critical bug reports\",\n",
    "    },\n",
    "    \"agent_instructions\": \"Use these tools when appropriate to help manage John's tasks efficiently.\"\n",
    "}"
   ]
  },
  {
   "cell_type": "code",
   "execution_count": 168,
   "id": "986cd7db",
   "metadata": {},
   "outputs": [],
   "source": [
    "from prompts import triage_system_prompt, triage_user_prompt"
   ]
  },
  {
   "cell_type": "code",
   "execution_count": 169,
   "id": "6e3a3075",
   "metadata": {},
   "outputs": [],
   "source": [
    "system_prompt = triage_system_prompt.format(\n",
    "    full_name=profile[\"full_name\"],\n",
    "    name=profile[\"name\"],\n",
    "    examples=None,\n",
    "    user_profile_background=profile[\"user_profile_background\"],\n",
    "    triage_no=prompt_instructions[\"triage_rules\"][\"ignore\"],\n",
    "    triage_notify=prompt_instructions[\"triage_rules\"][\"notify\"],\n",
    "    triage_email=prompt_instructions[\"triage_rules\"][\"respond\"],\n",
    ")"
   ]
  },
  {
   "cell_type": "code",
   "execution_count": 170,
   "id": "ba081153",
   "metadata": {},
   "outputs": [],
   "source": [
    "# Example incoming email\n",
    "email = {\n",
    "    \"from\": \"Alice Smith <alice.smith@company.com>\",\n",
    "    \"to\": \"John Doe <john.doe@company.com>\",\n",
    "    \"subject\": \"Quick question about API documentation\",\n",
    "    \"body\": \"\"\"\n",
    "Hi John,\n",
    "\n",
    "I was reviewing the API documentation for the new authentication service and noticed a few endpoints seem to be missing from the specs. Could you help clarify if this was intentional or if we should update the docs?\n",
    "\n",
    "Specifically, I'm looking at:\n",
    "- /auth/refresh\n",
    "- /auth/validate\n",
    "\n",
    "Thanks!\n",
    "Alice\"\"\",\n",
    "}"
   ]
  },
  {
   "cell_type": "markdown",
   "id": "ea22be9e",
   "metadata": {},
   "source": [
    "## Main agent, define tools"
   ]
  },
  {
   "cell_type": "code",
   "execution_count": 171,
   "id": "e2c9c926",
   "metadata": {},
   "outputs": [],
   "source": [
    "from langchain_core.tools import tool"
   ]
  },
  {
   "cell_type": "code",
   "execution_count": 172,
   "id": "23ab2fa7",
   "metadata": {},
   "outputs": [],
   "source": [
    "@tool\n",
    "def write_email(to: str, subject: str, content: str) -> str:\n",
    "    \"\"\"Write and send an email.\"\"\"\n",
    "    # Placeholder response - in real app would send email\n",
    "    return f\"Email sent to {to} with subject '{subject}'\""
   ]
  },
  {
   "cell_type": "code",
   "execution_count": 173,
   "id": "4bc47165",
   "metadata": {},
   "outputs": [],
   "source": [
    "@tool\n",
    "def schedule_meeting(\n",
    "    attendees: list[str], \n",
    "    subject: str, \n",
    "    duration_minutes: int, \n",
    "    preferred_day: str\n",
    ") -> str:\n",
    "    \"\"\"Schedule a calendar meeting.\"\"\"\n",
    "    # Placeholder response - in real app would check calendar and schedule\n",
    "    return f\"Meeting '{subject}' scheduled for {preferred_day} with {len(attendees)} attendees\"\n",
    "\n"
   ]
  },
  {
   "cell_type": "code",
   "execution_count": 174,
   "id": "f1f5cedf",
   "metadata": {},
   "outputs": [],
   "source": [
    "@tool\n",
    "def check_calendar_availability(day: str) -> str:\n",
    "    \"\"\"Check calendar availability for a given day.\"\"\"\n",
    "    # Placeholder response - in real app would check actual calendar\n",
    "    return f\"Available times on {day}: 9:00 AM, 2:00 PM, 4:00 PM\""
   ]
  },
  {
   "cell_type": "markdown",
   "id": "8ed9dd8d",
   "metadata": {},
   "source": [
    "## Define tools for managing memory\n",
    "\n",
    "根本問題：AI 的「失憶症」\n",
    "大型語言模型 (LLM) 本質上是無狀態 (Stateless) 的。這意味著，你與它進行的每一次對話，對它來說都是一次全新的互動。它不記得你五分鐘前說過的話，更不記得昨天聊天的內容。為了解決這個問題，我們需要為 AI 外掛一個「大腦」或「記憶體」，讓它可以儲存和讀取資訊。\n",
    "然而，當這個 AI 需要同時服務成千上萬個使用者時，新的問題出現了：\n",
    "資料隔離: 如何確保使用者 A 的記憶不會被使用者 B 看到或覆寫？\n",
    "資料組織: 如何有條理地存放不同類型、不同應用的記憶？\n",
    "這段程式碼，正是為了解決上述兩個問題而設計的精密配置。\n",
    "\n",
    "\n",
    "`create_manage_memory_tool` 和 `create_search_memory_tool` 這兩個函式，是來自像 LangChain 或 LangGraph 這樣的 AI 框架。它們的作用是將複雜的記憶體操作，*打包成 AI Agent 可以理解和使用的「工具 (Tool)」*。\n",
    "\n",
    "在 AI Agent 的世界裡，「工具」是賦予 AI 超出語言能力之外的具體技能。例如「上網搜尋」、「執行程式碼」、「計算數學」，以及我們這裡的「存取記憶」。AI Agent 會根據當前任務，自主決定是否以及何時使用哪個工具。\n",
    "\n",
    "1. \n",
    "```python\n",
    "manage_memory_tool = create_manage_memory_tool(...)\n",
    "```\n",
    "作用: 創建一個名為 manage_memory 的工具。此工具負責寫入 (Write) 記憶，包含新增、更新或刪除資訊。當 AI 判斷「我需要記住這件事」時，就會呼叫它。\n",
    "權限: 這是對記憶體的「寫入權限」。\n",
    "\n",
    "2. \n",
    "\n",
    "```python\n",
    "search_memory_tool = create_search_memory_tool(...)\n",
    "```\n",
    "作用: 創建一個名為 search_memory 的工具。此工具負責讀取 (Read) 記憶，從記憶庫中查詢資訊。當 AI 判斷「我需要回憶某件事」時，就會呼叫它。\n",
    "\n",
    "權限: 這是對記憶體的「讀取權限」。\n",
    "\n",
    "\n",
    "其都有 `namespace` 概念\n",
    "\n",
    "是一個定義資料存放「唯一位址」的階層式結構。可以把它想像成一個資料庫中的「複合主鍵 (Composite Primary Key)」。範例\n",
    "\n",
    "```python\n",
    "namespace=(\"email_assistant\", \"{langgraph_user_id}\", \"collection\")\n",
    "```\n",
    "\n",
    "\n",
    "這是一個三層結構的元組 (tuple)，每一層都有其特定的隔離作用：\n",
    "\n",
    "- 第一層: \"email_assistant\" - 應用層隔離\n",
    "\n",
    "    - 目的: 區分不同的 AI 應用。假設您的公司開發了一個「郵件助理」和一個「客服助理」，您不希望它們的記憶混在一起。這一層確保了「郵件助理」的記憶只會存放在標示為 email_assistant 的區域。\n",
    "    - 比喻: 像是銀行保險庫中的一個特定區域，專門保留給「VIP 客戶」。\n",
    "\n",
    "- 第二層: \"{langgraph_user_id}\" - 使用者層隔離 (多租戶核心)\n",
    "\n",
    "    - 目的: 這是實現多租戶 (Multi-tenancy) 的關鍵。{langgraph_user_id} 是一個動態佔位符 (Dynamic Placeholder)。在實際運行中，當一個請求進來時，LangGraph 框架或您的後端應用程式，必須提供當前使用者的唯一身份 ID (例如從登入 session、API 金鑰或聊天室 ID 中取得)，並用這個 ID 替換掉佔位符。\n",
    "    - 運作方式:\n",
    "        - 當使用者 Alice (ID: user_a_123) 互動時，記憶路徑會變成 (\"email_assistant\", \"user_a_123\", \"collection\")。\n",
    "        - 當使用者 Bob (ID: user_b_456) 互動時，記憶路徑會變成 (\"email_assistant\", \"user_b_456\", \"collection\")。\n",
    "    - 結果: 由於每個使用者的路徑都是獨一無二的，他們的資料被儲存在完全隔離的空間中，從根本上杜絕了資料洩漏的風險。\n",
    "    - 比喻: 就像在銀行的「VIP 客戶」區中，為每一位客戶分配一個獨一無二的保險箱，並用他們的身份證號碼作為編號。\n",
    "\n",
    "- 第三層: \"collection\" - 資料類型層隔離\n",
    "    - 目的: 在單一使用者的記憶空間內，進一步對資料進行分類。這裡統一使用 \"collection\"，但您可以根據需求擴展。例如，可以設計成：\n",
    "        - (\"email_assistant\", \"{user_id}\", \"profile\"): 存放使用者偏好、姓名等基本資料。\n",
    "        - (\"email_assistant\", \"{user_id}\", \"chat_history\"): 存放完整的對話歷史。\n",
    "        - (\"email_assistant\", \"{user_id}\", \"documents\"): 存放使用者上傳的文件摘要。\n",
    "    - 比喻: 就像在您個人的保險箱內，再使用不同的盒子來分別存放「珠寶」、「重要文件」和「現金」。\n",
    "\n",
    "\n",
    "3. 完整的運作流程\n",
    "    1. 使用者請求: 使用者 `Alice` (ID: `user_a_123`) 透過前端介面發送訊息：「請記住我的航班號是 BR-857」。\n",
    "    2. 後端接收: Web 伺服器（例如 Flask, FastAPI）接收到請求。它透過認證機制得知當前使用者是 `user_a_123。`\n",
    "    3. 呼叫 Agent: 伺服器將訊息和使用者 ID (`user_a_123`) 一同傳遞給 LangGraph Agent。\n",
    "    4. Agent 決策: Agent 內部的 LLM 分析訊息後，認為需要儲存資訊，決定呼叫 `manage_memory` 工具。\n",
    "    5. 動態替換: LangGraph 框架在執行工具前，讀取 `namespace` 配置，並將佔位符 `{langgraph_user_id}` 替換為實際的 `user_a_123。`\n",
    "    6. 執行工具: `manage_memory_tool` 被觸發，它將「航班號: BR-857」這條資訊，寫入到後端記憶體儲存（如 Redis, Postgres Vector DB）中，其位址標籤為 `(\"email_assistant\", \"user_a_123\", \"collection\")`。\n",
    "    7. 未來查詢: 當 Alice 稍後問「我的航班號是多少？」時，`search_memory_tool` 會在 `(\"email_assistant\", \"user_a_123\", \"collection\")` 這個專屬路徑下查找，從而準確地取回她的資訊。\n"
   ]
  },
  {
   "cell_type": "code",
   "execution_count": 175,
   "id": "8940e48f",
   "metadata": {},
   "outputs": [],
   "source": [
    "from langgraph.store.memory import InMemoryStore"
   ]
  },
  {
   "cell_type": "code",
   "execution_count": 176,
   "id": "ab6b243a",
   "metadata": {},
   "outputs": [],
   "source": [
    "store = InMemoryStore(\n",
    "    index={\"embed\": \"ollama:nomic-embed-text\"}\n",
    ")"
   ]
  },
  {
   "cell_type": "code",
   "execution_count": 177,
   "id": "4da3eec8",
   "metadata": {},
   "outputs": [],
   "source": [
    "from langmem import create_manage_memory_tool, create_search_memory_tool"
   ]
  },
  {
   "cell_type": "code",
   "execution_count": 178,
   "id": "21a81311",
   "metadata": {},
   "outputs": [],
   "source": [
    "manage_memory_tool = create_manage_memory_tool(\n",
    "    namespace=(\n",
    "        \"email_assistant\", \n",
    "        \"{langgraph_user_id}\",\n",
    "        \"collection\"\n",
    "    ),\n",
    "    name=\"manage_memory\"\n",
    ")\n",
    "search_memory_tool = create_search_memory_tool(\n",
    "    namespace=(\n",
    "        \"email_assistant\",\n",
    "        \"{langgraph_user_id}\",\n",
    "        \"collection\"\n",
    "    ),\n",
    "    name=\"search_memory\"\n",
    ")"
   ]
  },
  {
   "cell_type": "code",
   "execution_count": 179,
   "id": "bb8254f6",
   "metadata": {},
   "outputs": [
    {
     "name": "stdout",
     "output_type": "stream",
     "text": [
      "manage_memory\n"
     ]
    }
   ],
   "source": [
    "print(manage_memory_tool.name)"
   ]
  },
  {
   "cell_type": "code",
   "execution_count": 180,
   "id": "d5b404b1",
   "metadata": {},
   "outputs": [
    {
     "name": "stdout",
     "output_type": "stream",
     "text": [
      "Create, update, or delete a memory to persist across conversations.\n",
      "Include the MEMORY ID when updating or deleting a MEMORY. Omit when creating a new MEMORY - it will be created for you.\n",
      "Proactively call this tool when you:\n",
      "\n",
      "1. Identify a new USER preference.\n",
      "2. Receive an explicit USER request to remember something or otherwise alter your behavior.\n",
      "3. Are working and want to record important context.\n",
      "4. Identify that an existing MEMORY is incorrect or outdated.\n"
     ]
    }
   ],
   "source": [
    "print(manage_memory_tool.description)"
   ]
  },
  {
   "cell_type": "code",
   "execution_count": 181,
   "id": "e6d27d74",
   "metadata": {},
   "outputs": [
    {
     "data": {
      "text/plain": [
       "{'content': {'anyOf': [{'type': 'string'}, {'type': 'null'}],\n",
       "  'default': None,\n",
       "  'title': 'Content'},\n",
       " 'action': {'default': 'create',\n",
       "  'enum': ['create', 'update', 'delete'],\n",
       "  'title': 'Action',\n",
       "  'type': 'string'},\n",
       " 'id': {'anyOf': [{'format': 'uuid', 'type': 'string'}, {'type': 'null'}],\n",
       "  'default': None,\n",
       "  'title': 'Id'}}"
      ]
     },
     "execution_count": 181,
     "metadata": {},
     "output_type": "execute_result"
    }
   ],
   "source": [
    "manage_memory_tool.args"
   ]
  },
  {
   "cell_type": "code",
   "execution_count": 182,
   "id": "b29863ac",
   "metadata": {},
   "outputs": [
    {
     "data": {
      "text/plain": [
       "'search_memory'"
      ]
     },
     "execution_count": 182,
     "metadata": {},
     "output_type": "execute_result"
    }
   ],
   "source": [
    "search_memory_tool.name"
   ]
  },
  {
   "cell_type": "code",
   "execution_count": 183,
   "id": "70c5429e",
   "metadata": {},
   "outputs": [
    {
     "data": {
      "text/plain": [
       "'Search your long-term memories for information relevant to your current context.'"
      ]
     },
     "execution_count": 183,
     "metadata": {},
     "output_type": "execute_result"
    }
   ],
   "source": [
    "search_memory_tool.description"
   ]
  },
  {
   "cell_type": "code",
   "execution_count": 184,
   "id": "3a4b70e2",
   "metadata": {},
   "outputs": [
    {
     "data": {
      "text/plain": [
       "{'query': {'title': 'Query', 'type': 'string'},\n",
       " 'limit': {'default': 10, 'title': 'Limit', 'type': 'integer'},\n",
       " 'offset': {'default': 0, 'title': 'Offset', 'type': 'integer'},\n",
       " 'filter': {'anyOf': [{'additionalProperties': True, 'type': 'object'},\n",
       "   {'type': 'null'}],\n",
       "  'default': None,\n",
       "  'title': 'Filter'}}"
      ]
     },
     "execution_count": 184,
     "metadata": {},
     "output_type": "execute_result"
    }
   ],
   "source": [
    "search_memory_tool.args"
   ]
  },
  {
   "cell_type": "code",
   "execution_count": 185,
   "id": "510c38a3",
   "metadata": {},
   "outputs": [],
   "source": [
    "agent_system_prompt_memory = \"\"\"\n",
    "< Role >\n",
    "You are {full_name}'s executive assistant. You are a top-notch executive assistant who cares about {name} performing as well as possible.\n",
    "</ Role >\n",
    "\n",
    "< Tools >\n",
    "You have access to the following tools to help manage {name}'s communications and schedule:\n",
    "\n",
    "1. write_email(to, subject, content) - Send emails to specified recipients\n",
    "2. schedule_meeting(attendees, subject, duration_minutes, preferred_day) - Schedule calendar meetings\n",
    "3. check_calendar_availability(day) - Check available time slots for a given day\n",
    "4. manage_memory - Store any relevant information about contacts, actions, discussion, etc. in memory for future reference\n",
    "5. search_memory - Search for any relevant information that may have been stored in memory\n",
    "</ Tools >\n",
    "\n",
    "< Instructions >\n",
    "{instructions}\n",
    "</ Instructions >\n",
    "\"\"\""
   ]
  },
  {
   "cell_type": "markdown",
   "id": "0d27fa3b",
   "metadata": {},
   "source": [
    "## Main agent, define prompt"
   ]
  },
  {
   "cell_type": "code",
   "execution_count": 186,
   "id": "4dcf3285",
   "metadata": {},
   "outputs": [],
   "source": [
    "from langgraph.prebuilt import create_react_agent\n",
    "def create_prompt(state):\n",
    "    print(\"--- [create_prompt] 接收到的 State 內容 ---\")\n",
    "    # 使用 json.dumps 讓巢狀的字典更容易閱讀\n",
    "    print(state)\n",
    "    print(\"--- State 內容結束 ---\")\n",
    "    return [\n",
    "        {\n",
    "            \"role\": \"system\", \n",
    "            \"content\": agent_system_prompt_memory.format(\n",
    "                instructions=prompt_instructions[\"agent_instructions\"],\n",
    "                **profile\n",
    "                )\n",
    "        }\n",
    "    ] + state['messages']\n",
    "\n",
    "tools=[\n",
    "    write_email, \n",
    "    schedule_meeting,\n",
    "    check_calendar_availability,\n",
    "    manage_memory_tool,\n",
    "    search_memory_tool\n",
    "]\n",
    "agent = create_react_agent(\n",
    "    model=\"ollama:llama3.2\",\n",
    "    tools=tools,\n",
    "    prompt=create_prompt,\n",
    "    store=store\n",
    ")"
   ]
  },
  {
   "cell_type": "code",
   "execution_count": 187,
   "id": "4564dfbb",
   "metadata": {},
   "outputs": [],
   "source": [
    "config = {\"configurable\": {\"langgraph_user_id\": \"lance\"}}"
   ]
  },
  {
   "cell_type": "code",
   "execution_count": 188,
   "id": "235b80a9",
   "metadata": {},
   "outputs": [
    {
     "name": "stdout",
     "output_type": "stream",
     "text": [
      "--- [create_prompt] 接收到的 State 內容 ---\n",
      "{'messages': [HumanMessage(content='Jim is my friend', additional_kwargs={}, response_metadata={}, id='368f3903-cf48-48ac-89c3-ffb567751acd')], 'remaining_steps': 24}\n",
      "--- State 內容結束 ---\n"
     ]
    }
   ],
   "source": [
    "\n",
    "response = agent.invoke(\n",
    "    {\"messages\": [{\n",
    "        \"role\": \"user\", \n",
    "        \"content\": \"Jim is my friend\"\n",
    "    }]},\n",
    "    config\n",
    ")"
   ]
  },
  {
   "cell_type": "code",
   "execution_count": 189,
   "id": "95e034ae",
   "metadata": {},
   "outputs": [
    {
     "name": "stdout",
     "output_type": "stream",
     "text": [
      "================================\u001b[1m Human Message \u001b[0m=================================\n",
      "\n",
      "Jim is my friend\n",
      "==================================\u001b[1m Ai Message \u001b[0m==================================\n",
      "\n",
      "{\"name\": \"manage_memory\", \"parameters\": {\"action\": \"update\", \"id\": null, \"content\": \"{\"}}\n"
     ]
    }
   ],
   "source": [
    "for m in response[\"messages\"]:\n",
    "    m.pretty_print()"
   ]
  },
  {
   "cell_type": "code",
   "execution_count": 190,
   "id": "6b07c5e2",
   "metadata": {},
   "outputs": [
    {
     "name": "stdout",
     "output_type": "stream",
     "text": [
      "--- [create_prompt] 接收到的 State 內容 ---\n",
      "{'messages': [HumanMessage(content='who is jim?', additional_kwargs={}, response_metadata={}, id='89433de6-d842-4034-9e77-41c7c84b2097')], 'remaining_steps': 24}\n",
      "--- State 內容結束 ---\n",
      "--- [create_prompt] 接收到的 State 內容 ---\n",
      "{'messages': [HumanMessage(content='who is jim?', additional_kwargs={}, response_metadata={}, id='89433de6-d842-4034-9e77-41c7c84b2097'), AIMessage(content='', additional_kwargs={}, response_metadata={'model': 'llama3.2', 'created_at': '2025-08-17T03:05:37.264041632Z', 'done': True, 'done_reason': 'stop', 'total_duration': 167916801, 'load_duration': 25989677, 'prompt_eval_count': 723, 'prompt_eval_duration': 8447984, 'eval_count': 18, 'eval_duration': 132144944, 'model_name': 'llama3.2'}, id='run--d5af2a09-f761-4979-8fa6-8b18c22993d6-0', tool_calls=[{'name': 'search_memory', 'args': {'query': 'jim'}, 'id': '69b3db96-72f3-4472-8737-3d35e0a365ef', 'type': 'tool_call'}], usage_metadata={'input_tokens': 723, 'output_tokens': 18, 'total_tokens': 741}), ToolMessage(content='[]', name='search_memory', id='0eb3dac7-0a5c-42db-af55-11eaff25cc3a', tool_call_id='69b3db96-72f3-4472-8737-3d35e0a365ef')], 'remaining_steps': 22}\n",
      "--- State 內容結束 ---\n"
     ]
    }
   ],
   "source": [
    "response = agent.invoke(\n",
    "    {\"messages\": [{\"role\": \"user\", \"content\": \"who is jim?\"}]},\n",
    "    config=config\n",
    ")"
   ]
  },
  {
   "cell_type": "code",
   "execution_count": 191,
   "id": "378dd52e",
   "metadata": {},
   "outputs": [
    {
     "name": "stdout",
     "output_type": "stream",
     "text": [
      "================================\u001b[1m Human Message \u001b[0m=================================\n",
      "\n",
      "who is jim?\n",
      "==================================\u001b[1m Ai Message \u001b[0m==================================\n",
      "Tool Calls:\n",
      "  search_memory (69b3db96-72f3-4472-8737-3d35e0a365ef)\n",
      " Call ID: 69b3db96-72f3-4472-8737-3d35e0a365ef\n",
      "  Args:\n",
      "    query: jim\n",
      "=================================\u001b[1m Tool Message \u001b[0m=================================\n",
      "Name: search_memory\n",
      "\n",
      "[]\n",
      "==================================\u001b[1m Ai Message \u001b[0m==================================\n",
      "\n",
      "It appears that there is no relevant information stored in memory about a person named Jim. If you could provide more context or clarify who Jim is, I'd be happy to try and assist you further.\n",
      "\n",
      "However, I can suggest checking John's contact list to see if he has any entries for someone named Jim. Here is an example of how I could use the `manage_memory` tool to check:\n",
      "\n",
      "```\n",
      "managing_memory()\n",
      "print(memory[\" contacts ])\n",
      "```\n",
      "\n",
      "This would print out a list of all the contacts stored in memory, including anyone named Jim.\n"
     ]
    }
   ],
   "source": [
    "for m in response[\"messages\"]:\n",
    "    m.pretty_print()"
   ]
  },
  {
   "cell_type": "markdown",
   "id": "bdfe2c10",
   "metadata": {},
   "source": [
    "## Create the Overall Agent"
   ]
  },
  {
   "cell_type": "code",
   "execution_count": 192,
   "id": "49d92763",
   "metadata": {},
   "outputs": [],
   "source": [
    "from typing import Annotated\n",
    "from typing_extensions import TypedDict\n",
    "from langgraph.graph.message import add_messages\n",
    "\n",
    "class State(TypedDict):\n",
    "    email_input: dict\n",
    "    messages: Annotated[list, add_messages]"
   ]
  },
  {
   "cell_type": "code",
   "execution_count": 193,
   "id": "dca6bd08",
   "metadata": {},
   "outputs": [],
   "source": [
    "from langgraph.graph import StateGraph, START, END\n",
    "from langgraph.types import Command\n",
    "from typing import Literal\n",
    "from IPython.display import Image, display"
   ]
  },
  {
   "cell_type": "code",
   "execution_count": 194,
   "id": "7555c788",
   "metadata": {},
   "outputs": [],
   "source": [
    "def triage_router(state: State) -> Command[\n",
    "    Literal[\"response_agent\", \"__end__\"]\n",
    "]:\n",
    "    author = state['email_input']['author']\n",
    "    to = state['email_input']['to']\n",
    "    subject = state['email_input']['subject']\n",
    "    email_thread = state['email_input']['email_thread']\n",
    "\n",
    "    system_prompt = triage_system_prompt.format(\n",
    "        full_name=profile[\"full_name\"],\n",
    "        name=profile[\"name\"],\n",
    "        user_profile_background=profile[\"user_profile_background\"],\n",
    "        triage_no=prompt_instructions[\"triage_rules\"][\"ignore\"],\n",
    "        triage_notify=prompt_instructions[\"triage_rules\"][\"notify\"],\n",
    "        triage_email=prompt_instructions[\"triage_rules\"][\"respond\"],\n",
    "        examples=None\n",
    "    )\n",
    "    user_prompt = triage_user_prompt.format(\n",
    "        author=author, \n",
    "        to=to, \n",
    "        subject=subject, \n",
    "        email_thread=email_thread\n",
    "    )\n",
    "    result = llm_router.invoke(\n",
    "        [\n",
    "            {\"role\": \"system\", \"content\": system_prompt},\n",
    "            {\"role\": \"user\", \"content\": user_prompt},\n",
    "        ]\n",
    "    )\n",
    "    if result.classification == \"respond\":\n",
    "        print(\"📧 Classification: RESPOND - This email requires a response\")\n",
    "        goto = \"response_agent\"\n",
    "        update = {\n",
    "            \"messages\": [\n",
    "                {\n",
    "                    \"role\": \"user\",\n",
    "                    \"content\": f\"Respond to the email {state['email_input']}\",\n",
    "                }\n",
    "            ]\n",
    "        }\n",
    "    elif result.classification == \"ignore\":\n",
    "        print(\"🚫 Classification: IGNORE - This email can be safely ignored\")\n",
    "        update = None\n",
    "        goto = END\n",
    "    elif result.classification == \"notify\":\n",
    "        # If real life, this would do something else\n",
    "        print(\"🔔 Classification: NOTIFY - This email contains important information\")\n",
    "        update = None\n",
    "        goto = END\n",
    "    else:\n",
    "        raise ValueError(f\"Invalid classification: {result.classification}\")\n",
    "    return Command(goto=goto, update=update)"
   ]
  },
  {
   "cell_type": "code",
   "execution_count": 195,
   "id": "f2dc9c52",
   "metadata": {},
   "outputs": [],
   "source": [
    "email_agent = StateGraph(State)\n",
    "email_agent = email_agent.add_node(triage_router)\n",
    "email_agent = email_agent.add_node(\"response_agent\", agent)\n",
    "email_agent = email_agent.add_edge(START, \"triage_router\")\n",
    "email_agent = email_agent.compile(store=store)"
   ]
  },
  {
   "cell_type": "code",
   "execution_count": 196,
   "id": "dd208372",
   "metadata": {},
   "outputs": [
    {
     "data": {
      "image/png": "[encoded data removed]",
      "text/plain": [
       "<IPython.core.display.Image object>"
      ]
     },
     "metadata": {},
     "output_type": "display_data"
    }
   ],
   "source": [
    "display(Image(email_agent.get_graph(xray=True).draw_mermaid_png()))"
   ]
  },
  {
   "cell_type": "code",
   "execution_count": 197,
   "id": "a374e7b6",
   "metadata": {},
   "outputs": [],
   "source": [
    "email_input = {\n",
    "    \"author\": \"Alice Smith <alice.smith@company.com>\",\n",
    "    \"to\": \"John Doe <john.doe@company.com>\",\n",
    "    \"subject\": \"Quick question about API documentation\",\n",
    "    \"email_thread\": \"\"\"Hi John,\n",
    "\n",
    "I was reviewing the API documentation for the new authentication service and noticed a few endpoints seem to be missing from the specs. Could you help clarify if this was intentional or if we should update the docs?\n",
    "\n",
    "Specifically, I'm looking at:\n",
    "- /auth/refresh\n",
    "- /auth/validate\n",
    "\n",
    "Thanks!\n",
    "Alice\"\"\",\n",
    "}"
   ]
  },
  {
   "cell_type": "code",
   "execution_count": 198,
   "id": "67188bd4",
   "metadata": {},
   "outputs": [
    {
     "name": "stdout",
     "output_type": "stream",
     "text": [
      "📧 Classification: RESPOND - This email requires a response\n",
      "--- [create_prompt] 接收到的 State 內容 ---\n",
      "{'messages': [HumanMessage(content='Respond to the email {\\'author\\': \\'Alice Smith <alice.smith@company.com>\\', \\'to\\': \\'John Doe <john.doe@company.com>\\', \\'subject\\': \\'Quick question about API documentation\\', \\'email_thread\\': \"Hi John,\\\\n\\\\nI was reviewing the API documentation for the new authentication service and noticed a few endpoints seem to be missing from the specs. Could you help clarify if this was intentional or if we should update the docs?\\\\n\\\\nSpecifically, I\\'m looking at:\\\\n- /auth/refresh\\\\n- /auth/validate\\\\n\\\\nThanks!\\\\nAlice\"}', additional_kwargs={}, response_metadata={}, id='66a4f435-4961-4b3c-990d-889ef54e0452')], 'remaining_steps': 24}\n",
      "--- State 內容結束 ---\n",
      "--- [create_prompt] 接收到的 State 內容 ---\n",
      "{'messages': [HumanMessage(content='Respond to the email {\\'author\\': \\'Alice Smith <alice.smith@company.com>\\', \\'to\\': \\'John Doe <john.doe@company.com>\\', \\'subject\\': \\'Quick question about API documentation\\', \\'email_thread\\': \"Hi John,\\\\n\\\\nI was reviewing the API documentation for the new authentication service and noticed a few endpoints seem to be missing from the specs. Could you help clarify if this was intentional or if we should update the docs?\\\\n\\\\nSpecifically, I\\'m looking at:\\\\n- /auth/refresh\\\\n- /auth/validate\\\\n\\\\nThanks!\\\\nAlice\"}', additional_kwargs={}, response_metadata={}, id='66a4f435-4961-4b3c-990d-889ef54e0452'), AIMessage(content='', additional_kwargs={}, response_metadata={'model': 'llama3.2', 'created_at': '2025-08-17T03:05:40.124073863Z', 'done': True, 'done_reason': 'stop', 'total_duration': 674981977, 'load_duration': 31758887, 'prompt_eval_count': 840, 'prompt_eval_duration': 77801253, 'eval_count': 72, 'eval_duration': 563934124, 'model_name': 'llama3.2'}, id='run--24f8f04c-616f-4050-aeda-d30609f1ed1b-0', tool_calls=[{'name': 'write_email', 'args': {'content': 'Hi Alice,\\n\\nThank you for bringing this to my attention. I will review the API documentation and get back to you shortly.\\nBest regards, John Doe', 'subject': 'Re: Quick question about API documentation', 'to': 'john.doe@company.com'}, 'id': 'ea18378d-1919-41f0-9f98-012546b65cd0', 'type': 'tool_call'}], usage_metadata={'input_tokens': 840, 'output_tokens': 72, 'total_tokens': 912}), ToolMessage(content=\"Email sent to john.doe@company.com with subject 'Re: Quick question about API documentation'\", name='write_email', id='8ba86329-0e20-47ea-ac7c-a102bbfc572b', tool_call_id='ea18378d-1919-41f0-9f98-012546b65cd0')], 'remaining_steps': 22}\n",
      "--- State 內容結束 ---\n",
      "--- [create_prompt] 接收到的 State 內容 ---\n",
      "{'messages': [HumanMessage(content='Respond to the email {\\'author\\': \\'Alice Smith <alice.smith@company.com>\\', \\'to\\': \\'John Doe <john.doe@company.com>\\', \\'subject\\': \\'Quick question about API documentation\\', \\'email_thread\\': \"Hi John,\\\\n\\\\nI was reviewing the API documentation for the new authentication service and noticed a few endpoints seem to be missing from the specs. Could you help clarify if this was intentional or if we should update the docs?\\\\n\\\\nSpecifically, I\\'m looking at:\\\\n- /auth/refresh\\\\n- /auth/validate\\\\n\\\\nThanks!\\\\nAlice\"}', additional_kwargs={}, response_metadata={}, id='66a4f435-4961-4b3c-990d-889ef54e0452'), AIMessage(content='', additional_kwargs={}, response_metadata={'model': 'llama3.2', 'created_at': '2025-08-17T03:05:40.124073863Z', 'done': True, 'done_reason': 'stop', 'total_duration': 674981977, 'load_duration': 31758887, 'prompt_eval_count': 840, 'prompt_eval_duration': 77801253, 'eval_count': 72, 'eval_duration': 563934124, 'model_name': 'llama3.2'}, id='run--24f8f04c-616f-4050-aeda-d30609f1ed1b-0', tool_calls=[{'name': 'write_email', 'args': {'content': 'Hi Alice,\\n\\nThank you for bringing this to my attention. I will review the API documentation and get back to you shortly.\\nBest regards, John Doe', 'subject': 'Re: Quick question about API documentation', 'to': 'john.doe@company.com'}, 'id': 'ea18378d-1919-41f0-9f98-012546b65cd0', 'type': 'tool_call'}], usage_metadata={'input_tokens': 840, 'output_tokens': 72, 'total_tokens': 912}), ToolMessage(content=\"Email sent to john.doe@company.com with subject 'Re: Quick question about API documentation'\", name='write_email', id='8ba86329-0e20-47ea-ac7c-a102bbfc572b', tool_call_id='ea18378d-1919-41f0-9f98-012546b65cd0'), AIMessage(content='', additional_kwargs={}, response_metadata={'model': 'llama3.2', 'created_at': '2025-08-17T03:05:40.283673367Z', 'done': True, 'done_reason': 'stop', 'total_duration': 156397808, 'load_duration': 23652797, 'prompt_eval_count': 446, 'prompt_eval_duration': 6161887, 'eval_count': 13, 'eval_duration': 124595527, 'model_name': 'llama3.2'}, id='run--8ecf9dbd-79d3-4372-a1d9-d6bac6c0279a-0', tool_calls=[{'name': 'search_memory', 'args': {}, 'id': '2cb0de77-e058-434d-bfcd-14d38987c508', 'type': 'tool_call'}], usage_metadata={'input_tokens': 446, 'output_tokens': 13, 'total_tokens': 459}), ToolMessage(content='Error: 1 validation error for search_memory\\nquery\\n  Field required [type=missing, input_value={}, input_type=dict]\\n    For further information visit https://errors.pydantic.dev/2.11/v/missing\\n Please fix your mistakes.', name='search_memory', id='33fb87c5-7061-46de-9828-521201913869', tool_call_id='2cb0de77-e058-434d-bfcd-14d38987c508', status='error')], 'remaining_steps': 20}\n",
      "--- State 內容結束 ---\n"
     ]
    }
   ],
   "source": [
    "response = email_agent.invoke({\"email_input\": email_input},  config=config)"
   ]
  },
  {
   "cell_type": "code",
   "execution_count": 199,
   "id": "9ed130d5",
   "metadata": {},
   "outputs": [
    {
     "name": "stdout",
     "output_type": "stream",
     "text": [
      "================================\u001b[1m Human Message \u001b[0m=================================\n",
      "\n",
      "Respond to the email {'author': 'Alice Smith <alice.smith@company.com>', 'to': 'John Doe <john.doe@company.com>', 'subject': 'Quick question about API documentation', 'email_thread': \"Hi John,\\n\\nI was reviewing the API documentation for the new authentication service and noticed a few endpoints seem to be missing from the specs. Could you help clarify if this was intentional or if we should update the docs?\\n\\nSpecifically, I'm looking at:\\n- /auth/refresh\\n- /auth/validate\\n\\nThanks!\\nAlice\"}\n",
      "==================================\u001b[1m Ai Message \u001b[0m==================================\n",
      "Tool Calls:\n",
      "  write_email (ea18378d-1919-41f0-9f98-012546b65cd0)\n",
      " Call ID: ea18378d-1919-41f0-9f98-012546b65cd0\n",
      "  Args:\n",
      "    content: Hi Alice,\n",
      "\n",
      "Thank you for bringing this to my attention. I will review the API documentation and get back to you shortly.\n",
      "Best regards, John Doe\n",
      "    subject: Re: Quick question about API documentation\n",
      "    to: john.doe@company.com\n",
      "=================================\u001b[1m Tool Message \u001b[0m=================================\n",
      "Name: write_email\n",
      "\n",
      "Email sent to john.doe@company.com with subject 'Re: Quick question about API documentation'\n",
      "==================================\u001b[1m Ai Message \u001b[0m==================================\n",
      "Tool Calls:\n",
      "  search_memory (2cb0de77-e058-434d-bfcd-14d38987c508)\n",
      " Call ID: 2cb0de77-e058-434d-bfcd-14d38987c508\n",
      "  Args:\n",
      "=================================\u001b[1m Tool Message \u001b[0m=================================\n",
      "Name: search_memory\n",
      "\n",
      "Error: 1 validation error for search_memory\n",
      "query\n",
      "  Field required [type=missing, input_value={}, input_type=dict]\n",
      "    For further information visit https://errors.pydantic.dev/2.11/v/missing\n",
      " Please fix your mistakes.\n",
      "==================================\u001b[1m Ai Message \u001b[0m==================================\n",
      "\n",
      "No relevant information was stored in memory about this email thread. The conversation will continue as a new entry is made. \n",
      "\n",
      "Would you like to:\n",
      "\n",
      "1. write_email(to, subject, content) - Send emails to specified recipients\n",
      "2. schedule_meeting(attendees, subject, duration_minutes, preferred_day) - Schedule calendar meetings\n",
      "3. check_calendar_availability(day) - Check available time slots for a given day\n"
     ]
    }
   ],
   "source": [
    "for m in response[\"messages\"]:\n",
    "    m.pretty_print()"
   ]
  },
  {
   "cell_type": "code",
   "execution_count": 200,
   "id": "b8c66436",
   "metadata": {},
   "outputs": [],
   "source": [
    "email_input = {\n",
    "    \"author\": \"Alice Smith <alice.smith@company.com>\",\n",
    "    \"to\": \"John Doe <john.doe@company.com>\",\n",
    "    \"subject\": \"Follow up\",\n",
    "    \"email_thread\": \"\"\"Hi John,\n",
    "\n",
    "Any update on my previous ask?\"\"\",\n",
    "}"
   ]
  },
  {
   "cell_type": "code",
   "execution_count": 201,
   "id": "0c384c68",
   "metadata": {},
   "outputs": [
    {
     "name": "stdout",
     "output_type": "stream",
     "text": [
      "📧 Classification: RESPOND - This email requires a response\n",
      "--- [create_prompt] 接收到的 State 內容 ---\n",
      "{'messages': [HumanMessage(content=\"Respond to the email {'author': 'Alice Smith <alice.smith@company.com>', 'to': 'John Doe <john.doe@company.com>', 'subject': 'Follow up', 'email_thread': 'Hi John,\\\\n\\\\nAny update on my previous ask?'}\", additional_kwargs={}, response_metadata={}, id='25fc5f19-b23a-4a6e-9281-9c7bc3515ee3')], 'remaining_steps': 24}\n",
      "--- State 內容結束 ---\n",
      "--- [create_prompt] 接收到的 State 內容 ---\n",
      "{'messages': [HumanMessage(content=\"Respond to the email {'author': 'Alice Smith <alice.smith@company.com>', 'to': 'John Doe <john.doe@company.com>', 'subject': 'Follow up', 'email_thread': 'Hi John,\\\\n\\\\nAny update on my previous ask?'}\", additional_kwargs={}, response_metadata={}, id='25fc5f19-b23a-4a6e-9281-9c7bc3515ee3'), AIMessage(content='', additional_kwargs={}, response_metadata={'model': 'llama3.2', 'created_at': '2025-08-17T03:05:42.10878723Z', 'done': True, 'done_reason': 'stop', 'total_duration': 594572069, 'load_duration': 23022580, 'prompt_eval_count': 776, 'prompt_eval_duration': 75316156, 'eval_count': 64, 'eval_duration': 494630684, 'model_name': 'llama3.2'}, id='run--95b4224d-8d42-4c87-856b-d2f7b1143c74-0', tool_calls=[{'name': 'write_email', 'args': {'content': 'Hi Alice, \\n\\nI have not had a chance to follow up on your previous ask yet. I will look into it as soon as possible.', 'subject': 'Follow up', 'to': 'john.doe@company.com'}, 'id': 'ebbaacb7-3b25-4f0d-b509-802635f3dbe0', 'type': 'tool_call'}], usage_metadata={'input_tokens': 776, 'output_tokens': 64, 'total_tokens': 840}), ToolMessage(content=\"Email sent to john.doe@company.com with subject 'Follow up'\", name='write_email', id='c846136b-9753-4165-8475-5d8c6eaebc7e', tool_call_id='ebbaacb7-3b25-4f0d-b509-802635f3dbe0')], 'remaining_steps': 22}\n",
      "--- State 內容結束 ---\n"
     ]
    }
   ],
   "source": [
    "response = email_agent.invoke({\"email_input\": email_input}, config=config)"
   ]
  },
  {
   "cell_type": "code",
   "execution_count": 202,
   "id": "1e2f5e35",
   "metadata": {},
   "outputs": [
    {
     "name": "stdout",
     "output_type": "stream",
     "text": [
      "================================\u001b[1m Human Message \u001b[0m=================================\n",
      "\n",
      "Respond to the email {'author': 'Alice Smith <alice.smith@company.com>', 'to': 'John Doe <john.doe@company.com>', 'subject': 'Follow up', 'email_thread': 'Hi John,\\n\\nAny update on my previous ask?'}\n",
      "==================================\u001b[1m Ai Message \u001b[0m==================================\n",
      "Tool Calls:\n",
      "  write_email (ebbaacb7-3b25-4f0d-b509-802635f3dbe0)\n",
      " Call ID: ebbaacb7-3b25-4f0d-b509-802635f3dbe0\n",
      "  Args:\n",
      "    content: Hi Alice, \n",
      "\n",
      "I have not had a chance to follow up on your previous ask yet. I will look into it as soon as possible.\n",
      "    subject: Follow up\n",
      "    to: john.doe@company.com\n",
      "=================================\u001b[1m Tool Message \u001b[0m=================================\n",
      "Name: write_email\n",
      "\n",
      "Email sent to john.doe@company.com with subject 'Follow up'\n",
      "==================================\u001b[1m Ai Message \u001b[0m==================================\n",
      "\n",
      "I'll manage memory regarding this email response. \n",
      "{\"email\": \"Hi Alice, \\n\\nI have not had a chance to follow up on your previous ask yet. I will look into it as soon as possible.\",\"subject\": \"Follow up\",\"to\": \"john.doe@company.com\", \"from\": \"alice.smith@company.com\", \"date_sent\": \"2023-03-09 14:30:00\", \"thread_id\": \"1234567890\"}\n"
     ]
    }
   ],
   "source": [
    "for m in response[\"messages\"]:\n",
    "    m.pretty_print()"
   ]
  }
 ],
 "metadata": {
  "kernelspec": {
   "display_name": ".venv",
   "language": "python",
   "name": "python3"
  },
  "language_info": {
   "codemirror_mode": {
    "name": "ipython",
    "version": 3
   },
   "file_extension": ".py",
   "mimetype": "text/x-python",
   "name": "python",
   "nbconvert_exporter": "python",
   "pygments_lexer": "ipython3",
   "version": "3.12.3"
  }
 },
 "nbformat": 4,
 "nbformat_minor": 5
}
