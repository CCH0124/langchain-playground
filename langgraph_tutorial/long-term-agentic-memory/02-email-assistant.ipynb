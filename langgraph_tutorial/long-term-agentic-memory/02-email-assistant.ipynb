{
 "cells": [
  {
   "cell_type": "code",
   "execution_count": 2,
   "id": "9a549f57",
   "metadata": {},
   "outputs": [],
   "source": [
    "from langchain_ollama import ChatOllama\n",
    "\n",
    "llm = ChatOllama(\n",
    "    model = \"llama3.2\",\n",
    "    reasoning=False,\n",
    "    temperature = 0.1,\n",
    ")"
   ]
  },
  {
   "cell_type": "code",
   "execution_count": 3,
   "id": "0cea19f0",
   "metadata": {},
   "outputs": [],
   "source": [
    "from typing_extensions import Literal\n",
    "from pydantic import BaseModel, Field\n",
    "\n",
    "\n",
    "class Router(BaseModel):\n",
    "    \"\"\"Analyze the unread email and route it according to its content.\"\"\"\n",
    "\n",
    "    reasoning: str = Field(\n",
    "        description=\"Step-by-step reasoning behind the classification.\"\n",
    "    )\n",
    "    classification: Literal[\"ignore\", \"respond\", \"notify\"] = Field(\n",
    "        description=\"The classification of an email: 'ignore' for irrelevant emails, \"\n",
    "        \"'notify' for important information that doesn't need a response, \"\n",
    "        \"'respond' for emails that need a reply\",\n",
    "    )\n"
   ]
  },
  {
   "cell_type": "code",
   "execution_count": 4,
   "id": "698656b1",
   "metadata": {},
   "outputs": [
    {
     "data": {
      "text/plain": [
       "RunnableBinding(bound=ChatOllama(model='llama3.2', reasoning=False, temperature=0.1), kwargs={'format': {'description': 'Analyze the unread email and route it according to its content.', 'properties': {'reasoning': {'description': 'Step-by-step reasoning behind the classification.', 'title': 'Reasoning', 'type': 'string'}, 'classification': {'description': \"The classification of an email: 'ignore' for irrelevant emails, 'notify' for important information that doesn't need a response, 'respond' for emails that need a reply\", 'enum': ['ignore', 'respond', 'notify'], 'title': 'Classification', 'type': 'string'}}, 'required': ['reasoning', 'classification'], 'title': 'Router', 'type': 'object'}, 'ls_structured_output_format': {'kwargs': {'method': 'json_schema'}, 'schema': <class '__main__.Router'>}}, config={}, config_factories=[])\n",
       "| PydanticOutputParser(pydantic_object=<class '__main__.Router'>)"
      ]
     },
     "execution_count": 4,
     "metadata": {},
     "output_type": "execute_result"
    }
   ],
   "source": [
    "llm_router = llm.with_structured_output(Router)\n",
    "llm_router"
   ]
  },
  {
   "cell_type": "code",
   "execution_count": 5,
   "id": "86054f7a",
   "metadata": {},
   "outputs": [],
   "source": [
    "profile = {\n",
    "    \"name\": \"John\",\n",
    "    \"full_name\": \"John Doe\",\n",
    "    \"user_profile_background\": \"Senior software engineer leading a team of 5 developers\",\n",
    "}"
   ]
  },
  {
   "cell_type": "code",
   "execution_count": 6,
   "id": "127504a2",
   "metadata": {},
   "outputs": [],
   "source": [
    "prompt_instructions = {\n",
    "    \"triage_rules\": {\n",
    "        \"ignore\": \"Marketing newsletters, spam emails, mass company announcements\",\n",
    "        \"notify\": \"Team member out sick, build system notifications, project status updates\",\n",
    "        \"respond\": \"Direct questions from team members, meeting requests, critical bug reports\",\n",
    "    },\n",
    "    \"agent_instructions\": \"Use these tools when appropriate to help manage John's tasks efficiently.\"\n",
    "}"
   ]
  },
  {
   "cell_type": "code",
   "execution_count": 7,
   "id": "986cd7db",
   "metadata": {},
   "outputs": [],
   "source": [
    "from prompts import triage_system_prompt, triage_user_prompt"
   ]
  },
  {
   "cell_type": "code",
   "execution_count": 8,
   "id": "6e3a3075",
   "metadata": {},
   "outputs": [],
   "source": [
    "system_prompt = triage_system_prompt.format(\n",
    "    full_name=profile[\"full_name\"],\n",
    "    name=profile[\"name\"],\n",
    "    examples=None,\n",
    "    user_profile_background=profile[\"user_profile_background\"],\n",
    "    triage_no=prompt_instructions[\"triage_rules\"][\"ignore\"],\n",
    "    triage_notify=prompt_instructions[\"triage_rules\"][\"notify\"],\n",
    "    triage_email=prompt_instructions[\"triage_rules\"][\"respond\"],\n",
    ")"
   ]
  },
  {
   "cell_type": "code",
   "execution_count": 9,
   "id": "ba081153",
   "metadata": {},
   "outputs": [],
   "source": [
    "# Example incoming email\n",
    "email = {\n",
    "    \"from\": \"Alice Smith <alice.smith@company.com>\",\n",
    "    \"to\": \"John Doe <john.doe@company.com>\",\n",
    "    \"subject\": \"Quick question about API documentation\",\n",
    "    \"body\": \"\"\"\n",
    "Hi John,\n",
    "\n",
    "I was reviewing the API documentation for the new authentication service and noticed a few endpoints seem to be missing from the specs. Could you help clarify if this was intentional or if we should update the docs?\n",
    "\n",
    "Specifically, I'm looking at:\n",
    "- /auth/refresh\n",
    "- /auth/validate\n",
    "\n",
    "Thanks!\n",
    "Alice\"\"\",\n",
    "}"
   ]
  },
  {
   "cell_type": "code",
   "execution_count": 10,
   "id": "e003600b",
   "metadata": {},
   "outputs": [],
   "source": [
    "user_prompt = triage_user_prompt.format(\n",
    "    author=email[\"from\"],\n",
    "    to=email[\"to\"],\n",
    "    subject=email[\"subject\"],\n",
    "    email_thread=email[\"body\"],\n",
    ")"
   ]
  },
  {
   "cell_type": "code",
   "execution_count": 11,
   "id": "bc848367",
   "metadata": {},
   "outputs": [],
   "source": [
    "result = llm_router.invoke(\n",
    "    [\n",
    "        {\"role\": \"system\", \"content\": system_prompt},\n",
    "        {\"role\": \"user\", \"content\": user_prompt},\n",
    "    ]\n",
    ")"
   ]
  },
  {
   "cell_type": "code",
   "execution_count": 12,
   "id": "e5fa34a4",
   "metadata": {},
   "outputs": [
    {
     "data": {
      "text/plain": [
       "Router(reasoning=\"This email is a direct question from Alice Smith regarding API documentation and requires clarification. It falls under the category of 'RESPOND' as it needs a direct response from John.\", classification='respond')"
      ]
     },
     "execution_count": 12,
     "metadata": {},
     "output_type": "execute_result"
    }
   ],
   "source": [
    "result"
   ]
  },
  {
   "cell_type": "markdown",
   "id": "ea22be9e",
   "metadata": {},
   "source": [
    "## Main agent, define tools"
   ]
  },
  {
   "cell_type": "code",
   "execution_count": 13,
   "id": "e2c9c926",
   "metadata": {},
   "outputs": [],
   "source": [
    "from langchain_core.tools import tool"
   ]
  },
  {
   "cell_type": "code",
   "execution_count": 14,
   "id": "23ab2fa7",
   "metadata": {},
   "outputs": [],
   "source": [
    "@tool\n",
    "def write_email(to: str, subject: str, content: str) -> str:\n",
    "    \"\"\"Write and send an email.\"\"\"\n",
    "    # Placeholder response - in real app would send email\n",
    "    return f\"Email sent to {to} with subject '{subject}'\""
   ]
  },
  {
   "cell_type": "code",
   "execution_count": 15,
   "id": "4bc47165",
   "metadata": {},
   "outputs": [],
   "source": [
    "@tool\n",
    "def schedule_meeting(\n",
    "    attendees: list[str], \n",
    "    subject: str, \n",
    "    duration_minutes: int, \n",
    "    preferred_day: str\n",
    ") -> str:\n",
    "    \"\"\"Schedule a calendar meeting.\"\"\"\n",
    "    # Placeholder response - in real app would check calendar and schedule\n",
    "    return f\"Meeting '{subject}' scheduled for {preferred_day} with {len(attendees)} attendees\"\n",
    "\n"
   ]
  },
  {
   "cell_type": "code",
   "execution_count": 16,
   "id": "f1f5cedf",
   "metadata": {},
   "outputs": [],
   "source": [
    "@tool\n",
    "def check_calendar_availability(day: str) -> str:\n",
    "    \"\"\"Check calendar availability for a given day.\"\"\"\n",
    "    # Placeholder response - in real app would check actual calendar\n",
    "    return f\"Available times on {day}: 9:00 AM, 2:00 PM, 4:00 PM\""
   ]
  },
  {
   "cell_type": "markdown",
   "id": "0d27fa3b",
   "metadata": {},
   "source": [
    "## Main agent, define prompt"
   ]
  },
  {
   "cell_type": "code",
   "execution_count": 35,
   "id": "4dcf3285",
   "metadata": {},
   "outputs": [
    {
     "name": "stdout",
     "output_type": "stream",
     "text": [
      "--- [create_prompt] 接收到的 State 內容 ---\n",
      "{'messages': [HumanMessage(content='what is my availability for tuesday?', additional_kwargs={}, response_metadata={}, id='fec6dee2-bf0c-460c-93ba-1098353e79b5')], 'is_last_step': False, 'remaining_steps': 24}\n",
      "--- State 內容結束 ---\n",
      "--- [create_prompt] 接收到的 State 內容 ---\n",
      "{'messages': [HumanMessage(content='what is my availability for tuesday?', additional_kwargs={}, response_metadata={}, id='fec6dee2-bf0c-460c-93ba-1098353e79b5'), AIMessage(content='', additional_kwargs={}, response_metadata={'model': 'llama3.2', 'created_at': '2025-08-16T10:54:51.342517067Z', 'done': True, 'done_reason': 'stop', 'total_duration': 2240856321, 'load_duration': 1817276042, 'prompt_eval_count': 445, 'prompt_eval_duration': 218490963, 'eval_count': 19, 'eval_duration': 203759042, 'model_name': 'llama3.2'}, id='run--c50bb607-8fc6-432d-ba83-b276de8218d5-0', tool_calls=[{'name': 'check_calendar_availability', 'args': {'day': 'Tuesday'}, 'id': '2850731a-3621-47ab-9f6a-359b457aae90', 'type': 'tool_call'}], usage_metadata={'input_tokens': 445, 'output_tokens': 19, 'total_tokens': 464}), ToolMessage(content='Available times on Tuesday: 9:00 AM, 2:00 PM, 4:00 PM', name='check_calendar_availability', id='6a37b08f-39de-448c-9f02-47d7ec480b4d', tool_call_id='2850731a-3621-47ab-9f6a-359b457aae90')], 'is_last_step': False, 'remaining_steps': 22}\n",
      "--- State 內容結束 ---\n"
     ]
    }
   ],
   "source": [
    "from prompts import agent_system_prompt\n",
    "from langgraph.prebuilt import create_react_agent\n",
    "import json\n",
    "def create_prompt(state):\n",
    "    print(\"--- [create_prompt] 接收到的 State 內容 ---\")\n",
    "    # 使用 json.dumps 讓巢狀的字典更容易閱讀\n",
    "    print(state)\n",
    "    print(\"--- State 內容結束 ---\")\n",
    "    return [\n",
    "        {\n",
    "            \"role\": \"system\", \n",
    "            \"content\": agent_system_prompt.format(\n",
    "                instructions=prompt_instructions[\"agent_instructions\"],\n",
    "                **profile\n",
    "                )\n",
    "        }\n",
    "    ] + state['messages']\n",
    "\n",
    "tools=[write_email, schedule_meeting, check_calendar_availability]\n",
    "agent = create_react_agent(\n",
    "    model=\"ollama:llama3.2\",\n",
    "    tools=tools,\n",
    "    prompt=create_prompt,\n",
    ")\n",
    "response = agent.invoke(\n",
    "    {\"messages\": [{\n",
    "        \"role\": \"user\", \n",
    "        \"content\": \"what is my availability for tuesday?\"\n",
    "    }]}\n",
    ")"
   ]
  },
  {
   "cell_type": "code",
   "execution_count": 24,
   "id": "95e034ae",
   "metadata": {},
   "outputs": [
    {
     "data": {
      "text/plain": [
       "{'input': 'what is my availability for tuesday?',\n",
       " 'output': 'Your availability for Tuesday is as follows: 9:00 AM, 2:00 PM, and 4:00 PM.'}"
      ]
     },
     "execution_count": 24,
     "metadata": {},
     "output_type": "execute_result"
    }
   ],
   "source": [
    "response"
   ]
  },
  {
   "cell_type": "markdown",
   "id": "bdfe2c10",
   "metadata": {},
   "source": [
    "## Create the Overall Agent"
   ]
  },
  {
   "cell_type": "code",
   "execution_count": 25,
   "id": "49d92763",
   "metadata": {},
   "outputs": [],
   "source": [
    "from typing import Annotated\n",
    "from typing_extensions import TypedDict\n",
    "from langgraph.graph.message import add_messages\n",
    "\n",
    "class State(TypedDict):\n",
    "    email_input: dict\n",
    "    messages: Annotated[list, add_messages]"
   ]
  },
  {
   "cell_type": "code",
   "execution_count": 26,
   "id": "dca6bd08",
   "metadata": {},
   "outputs": [],
   "source": [
    "from langgraph.graph import StateGraph, START, END\n",
    "from langgraph.types import Command\n",
    "from typing import Literal\n",
    "from IPython.display import Image, display"
   ]
  },
  {
   "cell_type": "code",
   "execution_count": 27,
   "id": "7555c788",
   "metadata": {},
   "outputs": [],
   "source": [
    "def triage_router(state: State) -> Command[\n",
    "    Literal[\"response_agent\", \"__end__\"]\n",
    "]:\n",
    "    author = state['email_input']['author']\n",
    "    to = state['email_input']['to']\n",
    "    subject = state['email_input']['subject']\n",
    "    email_thread = state['email_input']['email_thread']\n",
    "\n",
    "    system_prompt = triage_system_prompt.format(\n",
    "        full_name=profile[\"full_name\"],\n",
    "        name=profile[\"name\"],\n",
    "        user_profile_background=profile[\"user_profile_background\"],\n",
    "        triage_no=prompt_instructions[\"triage_rules\"][\"ignore\"],\n",
    "        triage_notify=prompt_instructions[\"triage_rules\"][\"notify\"],\n",
    "        triage_email=prompt_instructions[\"triage_rules\"][\"respond\"],\n",
    "        examples=None\n",
    "    )\n",
    "    user_prompt = triage_user_prompt.format(\n",
    "        author=author, \n",
    "        to=to, \n",
    "        subject=subject, \n",
    "        email_thread=email_thread\n",
    "    )\n",
    "    result = llm_router.invoke(\n",
    "        [\n",
    "            {\"role\": \"system\", \"content\": system_prompt},\n",
    "            {\"role\": \"user\", \"content\": user_prompt},\n",
    "        ]\n",
    "    )\n",
    "    if result.classification == \"respond\":\n",
    "        print(\"📧 Classification: RESPOND - This email requires a response\")\n",
    "        goto = \"response_agent\"\n",
    "        update = {\n",
    "            \"messages\": [\n",
    "                {\n",
    "                    \"role\": \"user\",\n",
    "                    \"content\": f\"Respond to the email {state['email_input']}\",\n",
    "                }\n",
    "            ]\n",
    "        }\n",
    "    elif result.classification == \"ignore\":\n",
    "        print(\"🚫 Classification: IGNORE - This email can be safely ignored\")\n",
    "        update = None\n",
    "        goto = END\n",
    "    elif result.classification == \"notify\":\n",
    "        # If real life, this would do something else\n",
    "        print(\"🔔 Classification: NOTIFY - This email contains important information\")\n",
    "        update = None\n",
    "        goto = END\n",
    "    else:\n",
    "        raise ValueError(f\"Invalid classification: {result.classification}\")\n",
    "    return Command(goto=goto, update=update)"
   ]
  },
  {
   "cell_type": "code",
   "execution_count": 29,
   "id": "f2dc9c52",
   "metadata": {},
   "outputs": [],
   "source": [
    "email_agent = StateGraph(State)\n",
    "email_agent = email_agent.add_node(triage_router)\n",
    "email_agent = email_agent.add_node(\"response_agent\", agent)\n",
    "email_agent = email_agent.add_edge(START, \"triage_router\")\n",
    "email_agent = email_agent.compile()"
   ]
  },
  {
   "cell_type": "code",
   "execution_count": 30,
   "id": "dd208372",
   "metadata": {},
   "outputs": [
    {
     "data": {
      "image/png": "[encoded data removed]",
      "text/plain": [
       "<IPython.core.display.Image object>"
      ]
     },
     "metadata": {},
     "output_type": "display_data"
    }
   ],
   "source": [
    "# Show the agent\n",
    "display(Image(email_agent.get_graph(xray=True).draw_mermaid_png()))"
   ]
  },
  {
   "cell_type": "code",
   "execution_count": 31,
   "id": "a374e7b6",
   "metadata": {},
   "outputs": [],
   "source": [
    "email_input = {\n",
    "    \"author\": \"Marketing Team <marketing@amazingdeals.com>\",\n",
    "    \"to\": \"John Doe <john.doe@company.com>\",\n",
    "    \"subject\": \"🔥 EXCLUSIVE OFFER: Limited Time Discount on Developer Tools! 🔥\",\n",
    "    \"email_thread\": \"\"\"Dear Valued Developer,\n",
    "\n",
    "Don't miss out on this INCREDIBLE opportunity! \n",
    "\n",
    "🚀 For a LIMITED TIME ONLY, get 80% OFF on our Premium Developer Suite! \n",
    "\n",
    "✨ FEATURES:\n",
    "- Revolutionary AI-powered code completion\n",
    "- Cloud-based development environment\n",
    "- 24/7 customer support\n",
    "- And much more!\n",
    "\n",
    "💰 Regular Price: $999/month\n",
    "🎉 YOUR SPECIAL PRICE: Just $199/month!\n",
    "\n",
    "🕒 Hurry! This offer expires in:\n",
    "24 HOURS ONLY!\n",
    "\n",
    "Click here to claim your discount: https://amazingdeals.com/special-offer\n",
    "\n",
    "Best regards,\n",
    "Marketing Team\n",
    "---\n",
    "To unsubscribe, click here\n",
    "\"\"\",\n",
    "}"
   ]
  },
  {
   "cell_type": "code",
   "execution_count": 32,
   "id": "67188bd4",
   "metadata": {},
   "outputs": [
    {
     "name": "stdout",
     "output_type": "stream",
     "text": [
      "🚫 Classification: IGNORE - This email can be safely ignored\n"
     ]
    }
   ],
   "source": [
    "response = email_agent.invoke({\"email_input\": email_input})"
   ]
  },
  {
   "cell_type": "code",
   "execution_count": 33,
   "id": "9ed130d5",
   "metadata": {},
   "outputs": [
    {
     "data": {
      "text/plain": [
       "{'email_input': {'author': 'Marketing Team <marketing@amazingdeals.com>',\n",
       "  'to': 'John Doe <john.doe@company.com>',\n",
       "  'subject': '🔥 EXCLUSIVE OFFER: Limited Time Discount on Developer Tools! 🔥',\n",
       "  'email_thread': \"Dear Valued Developer,\\n\\nDon't miss out on this INCREDIBLE opportunity! \\n\\n🚀 For a LIMITED TIME ONLY, get 80% OFF on our Premium Developer Suite! \\n\\n✨ FEATURES:\\n- Revolutionary AI-powered code completion\\n- Cloud-based development environment\\n- 24/7 customer support\\n- And much more!\\n\\n💰 Regular Price: $999/month\\n🎉 YOUR SPECIAL PRICE: Just $199/month!\\n\\n🕒 Hurry! This offer expires in:\\n24 HOURS ONLY!\\n\\nClick here to claim your discount: https://amazingdeals.com/special-offer\\n\\nBest regards,\\nMarketing Team\\n---\\nTo unsubscribe, click here\\n\"},\n",
       " 'messages': []}"
      ]
     },
     "execution_count": 33,
     "metadata": {},
     "output_type": "execute_result"
    }
   ],
   "source": [
    "response"
   ]
  }
 ],
 "metadata": {
  "kernelspec": {
   "display_name": ".venv",
   "language": "python",
   "name": "python3"
  },
  "language_info": {
   "codemirror_mode": {
    "name": "ipython",
    "version": 3
   },
   "file_extension": ".py",
   "mimetype": "text/x-python",
   "name": "python",
   "nbconvert_exporter": "python",
   "pygments_lexer": "ipython3",
   "version": "3.12.3"
  }
 },
 "nbformat": 4,
 "nbformat_minor": 5
}
