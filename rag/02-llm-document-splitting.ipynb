{
 "cells": [
  {
   "cell_type": "markdown",
   "id": "eb0456a1",
   "metadata": {},
   "source": [
    "# Document Splitting"
   ]
  },
  {
   "cell_type": "markdown",
   "id": "0a5c9c90",
   "metadata": {},
   "source": [
    "將整份文件分割成較小的區塊（chunks）。以便更有效率地存入向量資料庫並供語言模型檢索。\n",
    "\n",
    "範例:\n",
    "```\n",
    "The Toyota Camry has a head-snapping 80 HP and an eight-speed automatic transmission...\n",
    "```\n",
    "Chunk 1:\n",
    "on this model. The Toyota Camry has a head-snapping\n",
    "\n",
    "Chunk 2:\n",
    "80 HP and an eight-speed automatic transmission that will\n",
    "\n",
    "為什麼要分割？\n",
    "\n",
    "- LLM 有 token 限制（例如 Ollama 的 LLaMA2 ≈ 4096 tokens）\n",
    "- 檢索時可以只抓出相關段落，而非整份檔案\n",
    "- 保證回答的準確度與效能\n",
    "\n",
    "下圖為一個文本切區塊示意圖\n",
    "\n",
    "![](https://r.anikit.app/i/nQ9XLQbo14)\n",
    "\n",
    "\n",
    "- https://python.langchain.com/docs/concepts/text_splitters/#approaches"
   ]
  },
  {
   "cell_type": "markdown",
   "id": "5dbd99ac",
   "metadata": {},
   "source": [
    "1. CharacterTextSplitter()\n",
    "    - 根據「字元長度」進行分割\n",
    "    - 常見於基本 chunk 設定，例如每段 500 字元\n",
    "2. MarkdownHeaderTextSplitter()\n",
    "    - 根據 Markdown 中的標題層級（如 #, ##）進行分割\n",
    "    - 適合處理 .md 技術文件或章節結構化資料\n",
    "3. TokenTextSplitter()\n",
    "    - 依據 token 數量 分割\n",
    "    - token 可依據模型（如 OpenAI 或 HuggingFace tokenizer）來計算\n",
    "    - 適合控制 prompt 長度（例如不超過 512 token）\n",
    "4. SentenceTransformersTokenTextSplitter()\n",
    "    - 也是基於 token 分割\n",
    "    - 搭配 Sentence Transformers 的 tokenizer 使用\n",
    "    - 更適合語意嵌入式 pipeline（與 sentence-transformers 配合）\n",
    "5. RecursiveCharacterTextSplitter() ✅ 最常用\n",
    "    - 最推薦的預設選擇\n",
    "    - 會嘗試以不同分隔符（如段落、句號、空白）進行分割\n",
    "    - 無法分成功時再退回用更細分的方式（遞迴式 fallback）\n",
    "\n",
    "✅ 適用於通用文本、自動平衡語意結構與 chunk 長度\n",
    "\n",
    "6. Language()（⚠️ 較冷門）\n",
    "    - 適用於 code file 分割（例如 C++, Python, Ruby, Markdown）\n",
    "    - 可搭配語言語法做智能分割\n",
    "\n",
    "\n",
    "7. NLTKTextSplitter()\n",
    "    - 使用 NLTK 的語句切割器\n",
    "    - 適合英文文件，每段為完整句子\n",
    "    - 需安裝 nltk 套件與語料庫\n",
    "\n",
    "8. SpacyTextSplitter()\n",
    "    - 使用 spaCy 的語句斷句功能\n",
    "    - 適合做語意較強的分段\n",
    "    - 需安裝 spaCy 模型（如 en_core_web_sm）"
   ]
  },
  {
   "cell_type": "code",
   "execution_count": 1,
   "id": "00e325b3",
   "metadata": {},
   "outputs": [],
   "source": [
    "from langchain.text_splitter import RecursiveCharacterTextSplitter, CharacterTextSplitter"
   ]
  },
  {
   "cell_type": "code",
   "execution_count": 3,
   "id": "3cfb5bb4",
   "metadata": {},
   "outputs": [],
   "source": [
    "chunk_size =26\n",
    "chunk_overlap = 4"
   ]
  },
  {
   "cell_type": "code",
   "execution_count": null,
   "id": "333b686a",
   "metadata": {},
   "outputs": [],
   "source": [
    "r_splitter = RecursiveCharacterTextSplitter(\n",
    "    chunk_size=chunk_size,\n",
    "    chunk_overlap=chunk_overlap\n",
    ")\n",
    "\"\"\"\n",
    "CharacterTextSplitter 會根據 separator 來進行切割，預設是 `\\n\\n` \n",
    "\"\"\"\n",
    "c_splitter = CharacterTextSplitter(\n",
    "    chunk_size=chunk_size,\n",
    "    chunk_overlap=chunk_overlap\n",
    ")"
   ]
  },
  {
   "cell_type": "code",
   "execution_count": 5,
   "id": "89012ce2",
   "metadata": {},
   "outputs": [
    {
     "data": {
      "text/plain": [
       "['abcdefghijklmnopqrstuvwxyz']"
      ]
     },
     "execution_count": 5,
     "metadata": {},
     "output_type": "execute_result"
    }
   ],
   "source": [
    "text1 = 'abcdefghijklmnopqrstuvwxyz'\n",
    "r_splitter.split_text(text1)"
   ]
  },
  {
   "cell_type": "code",
   "execution_count": 7,
   "id": "a83eb52a",
   "metadata": {},
   "outputs": [
    {
     "data": {
      "text/plain": [
       "['abcdefghijklmnopqrstuvwxyz', 'wxyzabcdefg']"
      ]
     },
     "execution_count": 7,
     "metadata": {},
     "output_type": "execute_result"
    }
   ],
   "source": [
    "text2 = 'abcdefghijklmnopqrstuvwxyzabcdefg'\n",
    "r_splitter.split_text(text2)\n",
    "# ['abcdefghijklmnopqrstuvwxyz', 'wxyzabcdefg'] 第二個元素 wxyz 是 chunk_overlap"
   ]
  },
  {
   "cell_type": "code",
   "execution_count": 8,
   "id": "36bc15c4",
   "metadata": {},
   "outputs": [],
   "source": [
    "text3 = \"a b c d e f g h i j k l m n o p q r s t u v w x y z\""
   ]
  },
  {
   "cell_type": "code",
   "execution_count": 9,
   "id": "2bce0114",
   "metadata": {},
   "outputs": [
    {
     "data": {
      "text/plain": [
       "['a b c d e f g h i j k l m', 'l m n o p q r s t u v w x', 'w x y z']"
      ]
     },
     "execution_count": 9,
     "metadata": {},
     "output_type": "execute_result"
    }
   ],
   "source": [
    "r_splitter.split_text(text3)"
   ]
  },
  {
   "cell_type": "code",
   "execution_count": 10,
   "id": "f3f34fb6",
   "metadata": {},
   "outputs": [
    {
     "data": {
      "text/plain": [
       "['a b c d e f g h i j k l m n o p q r s t u v w x y z']"
      ]
     },
     "execution_count": 10,
     "metadata": {},
     "output_type": "execute_result"
    }
   ],
   "source": [
    "c_splitter.split_text(text3)"
   ]
  },
  {
   "cell_type": "code",
   "execution_count": 11,
   "id": "06151d19",
   "metadata": {},
   "outputs": [
    {
     "data": {
      "text/plain": [
       "['a b c d e f g h i j k l m', 'l m n o p q r s t u v w x', 'w x y z']"
      ]
     },
     "execution_count": 11,
     "metadata": {},
     "output_type": "execute_result"
    }
   ],
   "source": [
    "c_splitter_with_separator = CharacterTextSplitter(\n",
    "    chunk_size=chunk_size,\n",
    "    chunk_overlap=chunk_overlap,\n",
    "    separator = ' '\n",
    ")\n",
    "c_splitter_with_separator.split_text(text3)"
   ]
  },
  {
   "cell_type": "markdown",
   "id": "e87efa43",
   "metadata": {},
   "source": [
    "### Recursive splitting details"
   ]
  },
  {
   "cell_type": "code",
   "execution_count": 21,
   "id": "aee2cb12",
   "metadata": {},
   "outputs": [],
   "source": [
    "some_text = \"\"\"\n",
    "Why you need Kubernetes and what it can do\n",
    "Containers are a good way to bundle and run your applications. In a production environment, you need to manage the containers that run the applications and ensure that there is no downtime. For example, if a container goes down, another container needs to start. Wouldn't it be easier if this behavior was handled by a system? \\n\\n\n",
    "\n",
    "That's how Kubernetes comes to the rescue! Kubernetes provides you with a framework to run distributed systems resiliently. It takes care of scaling and failover for your application, provides deployment patterns, and more. For example: Kubernetes can easily manage a canary deployment for your system. \\n\\n  \\\n",
    "\n",
    "Kubernetes provides you with:\n",
    "\n",
    "- Service discovery and load balancing Kubernetes can expose a container using the DNS name or using their own IP address. If traffic to a container is high, Kubernetes is able to load balance and distribute the network traffic so that the deployment is stable.\n",
    "- Storage orchestration Kubernetes allows you to automatically mount a storage system of your choice, such as local storages, public cloud providers, and more.\n",
    "- Automated rollouts and rollbacks You can describe the desired state for your deployed containers using Kubernetes, and it can change the actual state to the desired state at a controlled rate. For example, you can automate Kubernetes to create new containers for your deployment, remove existing containers and adopt all their resources to the new container.\n",
    "- Automatic bin packing You provide Kubernetes with a cluster of nodes that it can use to run containerized tasks. You tell Kubernetes how much CPU and memory (RAM) each container needs. Kubernetes can fit containers onto your nodes to make the best use of your resources.\n",
    "- Self-healing Kubernetes restarts containers that fail, replaces containers, kills containers that don't respond to your user-defined health check, and doesn't advertise them to clients until they are ready to serve.\n",
    "- Secret and configuration management Kubernetes lets you store and manage sensitive information, such as passwords, OAuth tokens, and SSH keys. You can deploy and update secrets and application configuration without rebuilding your container images, and without exposing secrets in your stack configuration.\n",
    "- Batch execution In addition to services, Kubernetes can manage your batch and CI workloads, replacing containers that fail, if desired.\n",
    "- Horizontal scaling Scale your application up and down with a simple command, with a UI, or automatically based on CPU usage.\n",
    "IPv4/IPv6 dual-stack Allocation of IPv4 and IPv6 addresses to Pods and Services\n",
    "- Designed for extensibility Add features to your Kubernetes cluster without changing upstream source code.\n",
    "\"\"\""
   ]
  },
  {
   "cell_type": "code",
   "execution_count": 22,
   "id": "2dfb3c30",
   "metadata": {},
   "outputs": [],
   "source": [
    "c_splitter = CharacterTextSplitter(\n",
    "    chunk_size=500,\n",
    "    chunk_overlap=0,\n",
    "    separator = ' '\n",
    ")\n",
    "\"\"\"\n",
    "RecursiveCharacterTextSplitter 中 separators 參數，分段時使用的分隔符層級清單（越前越優先）\n",
    "1. 優先會以段落 \\n\\n 切\n",
    "2. 若段落過長，會再以 \\n 切句子\n",
    "3. 若還是超長，再以空格切字\n",
    "4. 最後才用硬切字元\n",
    "\"\"\"\n",
    "r_splitter = RecursiveCharacterTextSplitter(\n",
    "    chunk_size=500,\n",
    "    chunk_overlap=0, \n",
    "    separators=[\"\\n\\n\", \"\\n\", \" \", \"\"]\n",
    ")"
   ]
  },
  {
   "cell_type": "code",
   "execution_count": 14,
   "id": "3b7a7fd0",
   "metadata": {},
   "outputs": [
    {
     "data": {
      "text/plain": [
       "[\"Why you need Kubernetes and what it can do\\nContainers are a good way to bundle and run your applications. In a production environment, you need to manage the containers that run the applications and ensure that there is no downtime. For example, if a container goes down, another container needs to start. Wouldn't it be easier if this behavior was handled by a system?\\n\\nThat's how Kubernetes comes to the rescue! Kubernetes provides you with a\",\n",
       " 'framework to run distributed systems resiliently. It takes care of scaling and failover for your application, provides deployment patterns, and more. For example: Kubernetes can easily manage a canary deployment for your system.\\n\\nKubernetes provides you with:\\n\\n- Service discovery and load balancing Kubernetes can expose a container using the DNS name or using their own IP address. If traffic to a container is high, Kubernetes is able to load',\n",
       " 'balance and distribute the network traffic so that the deployment is stable.\\n- Storage orchestration Kubernetes allows you to automatically mount a storage system of your choice, such as local storages, public cloud providers, and more.\\n- Automated rollouts and rollbacks You can describe the desired state for your deployed containers using Kubernetes, and it can change the actual state to the desired state at a controlled rate. For example, you',\n",
       " 'can automate Kubernetes to create new containers for your deployment, remove existing containers and adopt all their resources to the new container.\\n- Automatic bin packing You provide Kubernetes with a cluster of nodes that it can use to run containerized tasks. You tell Kubernetes how much CPU and memory (RAM) each container needs. Kubernetes can fit containers onto your nodes to make the best use of your resources.\\n- Self-healing Kubernetes',\n",
       " \"restarts containers that fail, replaces containers, kills containers that don't respond to your user-defined health check, and doesn't advertise them to clients until they are ready to serve.\\n- Secret and configuration management Kubernetes lets you store and manage sensitive information, such as passwords, OAuth tokens, and SSH keys. You can deploy and update secrets and application configuration without rebuilding your container images, and\",\n",
       " 'without exposing secrets in your stack configuration.\\n- Batch execution In addition to services, Kubernetes can manage your batch and CI workloads, replacing containers that fail, if desired.\\n- Horizontal scaling Scale your application up and down with a simple command, with a UI, or automatically based on CPU usage.\\nIPv4/IPv6 dual-stack Allocation of IPv4 and IPv6 addresses to Pods and Services\\n- Designed for extensibility Add features to your',\n",
       " 'Kubernetes cluster without changing upstream source code.']"
      ]
     },
     "execution_count": 14,
     "metadata": {},
     "output_type": "execute_result"
    }
   ],
   "source": [
    "c_splitter.split_text(some_text)"
   ]
  },
  {
   "cell_type": "code",
   "execution_count": 23,
   "id": "82f8b405",
   "metadata": {},
   "outputs": [
    {
     "data": {
      "text/plain": [
       "[\"Why you need Kubernetes and what it can do\\nContainers are a good way to bundle and run your applications. In a production environment, you need to manage the containers that run the applications and ensure that there is no downtime. For example, if a container goes down, another container needs to start. Wouldn't it be easier if this behavior was handled by a system?\",\n",
       " \"That's how Kubernetes comes to the rescue! Kubernetes provides you with a framework to run distributed systems resiliently. It takes care of scaling and failover for your application, provides deployment patterns, and more. For example: Kubernetes can easily manage a canary deployment for your system. \\n\\n  \\nKubernetes provides you with:\",\n",
       " '- Service discovery and load balancing Kubernetes can expose a container using the DNS name or using their own IP address. If traffic to a container is high, Kubernetes is able to load balance and distribute the network traffic so that the deployment is stable.\\n- Storage orchestration Kubernetes allows you to automatically mount a storage system of your choice, such as local storages, public cloud providers, and more.',\n",
       " '- Automated rollouts and rollbacks You can describe the desired state for your deployed containers using Kubernetes, and it can change the actual state to the desired state at a controlled rate. For example, you can automate Kubernetes to create new containers for your deployment, remove existing containers and adopt all their resources to the new container.',\n",
       " \"- Automatic bin packing You provide Kubernetes with a cluster of nodes that it can use to run containerized tasks. You tell Kubernetes how much CPU and memory (RAM) each container needs. Kubernetes can fit containers onto your nodes to make the best use of your resources.\\n- Self-healing Kubernetes restarts containers that fail, replaces containers, kills containers that don't respond to your user-defined health check, and doesn't advertise them to clients until they are ready to serve.\",\n",
       " '- Secret and configuration management Kubernetes lets you store and manage sensitive information, such as passwords, OAuth tokens, and SSH keys. You can deploy and update secrets and application configuration without rebuilding your container images, and without exposing secrets in your stack configuration.\\n- Batch execution In addition to services, Kubernetes can manage your batch and CI workloads, replacing containers that fail, if desired.',\n",
       " '- Horizontal scaling Scale your application up and down with a simple command, with a UI, or automatically based on CPU usage.\\nIPv4/IPv6 dual-stack Allocation of IPv4 and IPv6 addresses to Pods and Services\\n- Designed for extensibility Add features to your Kubernetes cluster without changing upstream source code.']"
      ]
     },
     "execution_count": 23,
     "metadata": {},
     "output_type": "execute_result"
    }
   ],
   "source": [
    "r_splitter.split_text(some_text)"
   ]
  },
  {
   "cell_type": "code",
   "execution_count": 25,
   "id": "b4953b99",
   "metadata": {},
   "outputs": [
    {
     "name": "stdout",
     "output_type": "stream",
     "text": [
      "['Why you need Kubernetes and what it can do', 'Containers are a good way to bundle and run your applications. In a production environment, you need to manage the containers that run the', \"applications and ensure that there is no downtime. For example, if a container goes down, another container needs to start. Wouldn't it be easier if\", 'this behavior was handled by a system?', \"That's how Kubernetes comes to the rescue! Kubernetes provides you with a framework to run distributed systems resiliently. It takes care of scaling\", 'and failover for your application, provides deployment patterns, and more. For example: Kubernetes can easily manage a canary deployment for your', 'system.', 'Kubernetes provides you with:', '- Service discovery and load balancing Kubernetes can expose a container using the DNS name or using their own IP address. If traffic to a container', 'is high, Kubernetes is able to load balance and distribute the network traffic so that the deployment is stable.', '- Storage orchestration Kubernetes allows you to automatically mount a storage system of your choice, such as local storages, public cloud providers,', 'and more.', '- Automated rollouts and rollbacks You can describe the desired state for your deployed containers using Kubernetes, and it can change the actual', 'state to the desired state at a controlled rate. For example, you can automate Kubernetes to create new containers for your deployment, remove', 'existing containers and adopt all their resources to the new container.', '- Automatic bin packing You provide Kubernetes with a cluster of nodes that it can use to run containerized tasks. You tell Kubernetes how much CPU', 'and memory (RAM) each container needs. Kubernetes can fit containers onto your nodes to make the best use of your resources.', \"- Self-healing Kubernetes restarts containers that fail, replaces containers, kills containers that don't respond to your user-defined health check,\", \"and doesn't advertise them to clients until they are ready to serve.\", '- Secret and configuration management Kubernetes lets you store and manage sensitive information, such as passwords, OAuth tokens, and SSH keys. You', 'can deploy and update secrets and application configuration without rebuilding your container images, and without exposing secrets in your stack', 'configuration.', '- Batch execution In addition to services, Kubernetes can manage your batch and CI workloads, replacing containers that fail, if desired.', '- Horizontal scaling Scale your application up and down with a simple command, with a UI, or automatically based on CPU usage.', 'IPv4/IPv6 dual-stack Allocation of IPv4 and IPv6 addresses to Pods and Services', '- Designed for extensibility Add features to your Kubernetes cluster without changing upstream source code.']\n",
      "\n",
      "\n",
      "\n",
      "26\n"
     ]
    }
   ],
   "source": [
    "r_splitter = RecursiveCharacterTextSplitter(\n",
    "    chunk_size=150,\n",
    "    chunk_overlap=0,\n",
    "    separators=[\"\\n\\n\", \"\\n\", \"\\. \", \" \", \"\"]\n",
    ")\n",
    "r = r_splitter.split_text(some_text)\n",
    "print(r)\n",
    "print('\\n\\n')\n",
    "print(len(r))"
   ]
  },
  {
   "cell_type": "code",
   "execution_count": 26,
   "id": "33875ad8",
   "metadata": {},
   "outputs": [
    {
     "name": "stdout",
     "output_type": "stream",
     "text": [
      "['Why you need Kubernetes and what it can do', 'Containers are a good way to bundle and run your applications. In a production environment, you need to manage the containers that run the', \"applications and ensure that there is no downtime. For example, if a container goes down, another container needs to start. Wouldn't it be easier if\", 'this behavior was handled by a system?', \"That's how Kubernetes comes to the rescue! Kubernetes provides you with a framework to run distributed systems resiliently. It takes care of scaling\", 'and failover for your application, provides deployment patterns, and more. For example: Kubernetes can easily manage a canary deployment for your', 'system.', 'Kubernetes provides you with:', '- Service discovery and load balancing Kubernetes can expose a container using the DNS name or using their own IP address. If traffic to a container', 'is high, Kubernetes is able to load balance and distribute the network traffic so that the deployment is stable.', '- Storage orchestration Kubernetes allows you to automatically mount a storage system of your choice, such as local storages, public cloud providers,', 'and more.', '- Automated rollouts and rollbacks You can describe the desired state for your deployed containers using Kubernetes, and it can change the actual', 'state to the desired state at a controlled rate. For example, you can automate Kubernetes to create new containers for your deployment, remove', 'existing containers and adopt all their resources to the new container.', '- Automatic bin packing You provide Kubernetes with a cluster of nodes that it can use to run containerized tasks. You tell Kubernetes how much CPU', 'and memory (RAM) each container needs. Kubernetes can fit containers onto your nodes to make the best use of your resources.', \"- Self-healing Kubernetes restarts containers that fail, replaces containers, kills containers that don't respond to your user-defined health check,\", \"and doesn't advertise them to clients until they are ready to serve.\", '- Secret and configuration management Kubernetes lets you store and manage sensitive information, such as passwords, OAuth tokens, and SSH keys. You', 'can deploy and update secrets and application configuration without rebuilding your container images, and without exposing secrets in your stack', 'configuration.', '- Batch execution In addition to services, Kubernetes can manage your batch and CI workloads, replacing containers that fail, if desired.', '- Horizontal scaling Scale your application up and down with a simple command, with a UI, or automatically based on CPU usage.', 'IPv4/IPv6 dual-stack Allocation of IPv4 and IPv6 addresses to Pods and Services', '- Designed for extensibility Add features to your Kubernetes cluster without changing upstream source code.']\n",
      "\n",
      "\n",
      "\n",
      "26\n"
     ]
    }
   ],
   "source": [
    "r_splitter = RecursiveCharacterTextSplitter(\n",
    "    chunk_size=150,\n",
    "    chunk_overlap=0,\n",
    "    separators=[\"\\n\\n\", \"\\n\", \"(?<=\\. )\", \" \", \"\"]\n",
    ")\n",
    "r = r_splitter.split_text(some_text)\n",
    "print(r)\n",
    "print('\\n\\n')\n",
    "print(len(r))"
   ]
  },
  {
   "cell_type": "markdown",
   "id": "ddec2bb5",
   "metadata": {},
   "source": [
    "## Token splitting"
   ]
  },
  {
   "cell_type": "markdown",
   "id": "cf0c4984",
   "metadata": {},
   "source": [
    "特別適合用在你需要精準控制 LLM token 數量的場景。TokenTextSplitter 是根據「token 數」來分割文字，而不是用字元數或句子長度。\n",
    "使用時機\n",
    "1. 要控制輸入給 LLM 的 token 數\n",
    "2. 做嵌入（embedding）時希望 chunk 不超過某 token 數\n",
    "3. 對中文或特殊語言文字長度不準確時\n",
    "4. 想確保輸出給 LLM 的 chunk 不會被截斷\n",
    "\n",
    ">Tokens are often ~4 characters."
   ]
  },
  {
   "cell_type": "code",
   "execution_count": 4,
   "id": "b77d5412",
   "metadata": {},
   "outputs": [
    {
     "name": "stdout",
     "output_type": "stream",
     "text": [
      "Defaulting to user installation because normal site-packages is not writeable\n",
      "Collecting tiktoken\n",
      "  Downloading tiktoken-0.9.0-cp311-cp311-manylinux_2_17_x86_64.manylinux2014_x86_64.whl (1.2 MB)\n",
      "\u001b[2K     \u001b[90m━━━━━━━━━━━━━━━━━━━━━━━━━━━━━━━━━━━━━━━━\u001b[0m \u001b[32m1.2/1.2 MB\u001b[0m \u001b[31m5.6 MB/s\u001b[0m eta \u001b[36m0:00:00\u001b[0m00:01\u001b[0m00:01\u001b[0m\n",
      "\u001b[?25hRequirement already satisfied: requests>=2.26.0 in /home/itachi/.local/lib/python3.11/site-packages (from tiktoken) (2.32.3)\n",
      "Requirement already satisfied: regex>=2022.1.18 in /home/itachi/.local/lib/python3.11/site-packages (from tiktoken) (2024.11.6)\n",
      "Requirement already satisfied: idna<4,>=2.5 in /home/itachi/.local/lib/python3.11/site-packages (from requests>=2.26.0->tiktoken) (3.10)\n",
      "Requirement already satisfied: certifi>=2017.4.17 in /home/itachi/.local/lib/python3.11/site-packages (from requests>=2.26.0->tiktoken) (2024.8.30)\n",
      "Requirement already satisfied: urllib3<3,>=1.21.1 in /home/itachi/.local/lib/python3.11/site-packages (from requests>=2.26.0->tiktoken) (2.2.3)\n",
      "Requirement already satisfied: charset-normalizer<4,>=2 in /home/itachi/.local/lib/python3.11/site-packages (from requests>=2.26.0->tiktoken) (3.4.0)\n",
      "Installing collected packages: tiktoken\n",
      "Successfully installed tiktoken-0.9.0\n",
      "Note: you may need to restart the kernel to use updated packages.\n"
     ]
    }
   ],
   "source": [
    "%pip install tiktoken"
   ]
  },
  {
   "cell_type": "code",
   "execution_count": 8,
   "id": "c1f54018",
   "metadata": {},
   "outputs": [],
   "source": [
    "text1 = \"foo bar bazzyfoo\""
   ]
  },
  {
   "cell_type": "code",
   "execution_count": 9,
   "id": "404c9cba",
   "metadata": {},
   "outputs": [
    {
     "data": {
      "text/plain": [
       "['foo', ' bar', ' b', 'az', 'zy', 'foo']"
      ]
     },
     "execution_count": 9,
     "metadata": {},
     "output_type": "execute_result"
    }
   ],
   "source": [
    "from langchain.text_splitter import TokenTextSplitter\n",
    "text_splitter = TokenTextSplitter(chunk_size=1, chunk_overlap=0)\n",
    "text_splitter.split_text(text1)"
   ]
  },
  {
   "cell_type": "code",
   "execution_count": 10,
   "id": "73f0ad74",
   "metadata": {},
   "outputs": [],
   "source": [
    "from langchain_community.document_loaders import PyMuPDFLoader\n",
    "loader = PyMuPDFLoader(\"./kubernetes-cheatsheet.pdf\")\n",
    "pages = loader.load()"
   ]
  },
  {
   "cell_type": "code",
   "execution_count": 12,
   "id": "eed76375",
   "metadata": {},
   "outputs": [],
   "source": [
    "text_splitter = TokenTextSplitter(chunk_size=10, chunk_overlap=0)\n",
    "docs = text_splitter.split_documents(pages)"
   ]
  },
  {
   "cell_type": "code",
   "execution_count": 13,
   "id": "9eadbf63",
   "metadata": {},
   "outputs": [
    {
     "data": {
      "text/plain": [
       "141"
      ]
     },
     "execution_count": 13,
     "metadata": {},
     "output_type": "execute_result"
    }
   ],
   "source": [
    "len(docs)"
   ]
  },
  {
   "cell_type": "code",
   "execution_count": 14,
   "id": "db1b3379",
   "metadata": {},
   "outputs": [
    {
     "data": {
      "text/plain": [
       "1"
      ]
     },
     "execution_count": 14,
     "metadata": {},
     "output_type": "execute_result"
    }
   ],
   "source": [
    "len(pages)"
   ]
  },
  {
   "cell_type": "code",
   "execution_count": 15,
   "id": "f74b284f",
   "metadata": {},
   "outputs": [
    {
     "name": "stdout",
     "output_type": "stream",
     "text": [
      "page_content='Kubernetes Cheatsheet\n",
      "What is' metadata={'producer': 'PDFium', 'creator': 'PDFium', 'creationdate': 'D:20250518155345', 'source': './kubernetes-cheatsheet.pdf', 'file_path': './kubernetes-cheatsheet.pdf', 'total_pages': 1, 'format': 'PDF 1.7', 'title': '', 'author': '', 'subject': '', 'keywords': '', 'moddate': '', 'trapped': '', 'modDate': '', 'creationDate': 'D:20250518155345', 'page': 0}\n",
      "\n",
      "\n",
      "page_content=' Kubernetes \n",
      "Kapsule and' metadata={'producer': 'PDFium', 'creator': 'PDFium', 'creationdate': 'D:20250518155345', 'source': './kubernetes-cheatsheet.pdf', 'file_path': './kubernetes-cheatsheet.pdf', 'total_pages': 1, 'format': 'PDF 1.7', 'title': '', 'author': '', 'subject': '', 'keywords': '', 'moddate': '', 'trapped': '', 'modDate': '', 'creationDate': 'D:20250518155345', 'page': 0}\n"
     ]
    }
   ],
   "source": [
    "print(docs[0])\n",
    "print('\\n')\n",
    "print(docs[1])"
   ]
  },
  {
   "cell_type": "markdown",
   "id": "f8bcc8e3",
   "metadata": {},
   "source": [
    "## MarkdownHeaderTextSplitter"
   ]
  },
  {
   "cell_type": "code",
   "execution_count": 16,
   "id": "97e736bc",
   "metadata": {},
   "outputs": [],
   "source": [
    "markdown_document = \"\"\"# Title\\n\\n \\\n",
    "## Chapter 1\\n\\n \\\n",
    "Hi this is Jim\\n\\n Hi this is Joe\\n\\n \\\n",
    "### Section \\n\\n \\\n",
    "Hi this is Lance \\n\\n \n",
    "## Chapter 2\\n\\n \\\n",
    "Hi this is Molly\"\"\"\n",
    "\n",
    "headers_to_split_on = [\n",
    "    (\"#\", \"Header 1\"),\n",
    "    (\"##\", \"Header 2\"),\n",
    "    (\"###\", \"Header 3\"),\n",
    "]"
   ]
  },
  {
   "cell_type": "code",
   "execution_count": 17,
   "id": "27f8069b",
   "metadata": {},
   "outputs": [],
   "source": [
    "from langchain.text_splitter import MarkdownHeaderTextSplitter\n",
    "markdown_splitter = MarkdownHeaderTextSplitter(\n",
    "    headers_to_split_on=headers_to_split_on\n",
    ")\n",
    "md_header_splits = markdown_splitter.split_text(markdown_document)"
   ]
  },
  {
   "cell_type": "code",
   "execution_count": 18,
   "id": "b7e760e2",
   "metadata": {},
   "outputs": [
    {
     "data": {
      "text/plain": [
       "Document(metadata={'Header 1': 'Title', 'Header 2': 'Chapter 1'}, page_content='Hi this is Jim  \\nHi this is Joe')"
      ]
     },
     "execution_count": 18,
     "metadata": {},
     "output_type": "execute_result"
    }
   ],
   "source": [
    "md_header_splits[0]"
   ]
  },
  {
   "cell_type": "code",
   "execution_count": 19,
   "id": "d27902a1",
   "metadata": {},
   "outputs": [
    {
     "data": {
      "text/plain": [
       "Document(metadata={'Header 1': 'Title', 'Header 2': 'Chapter 1', 'Header 3': 'Section'}, page_content='Hi this is Lance')"
      ]
     },
     "execution_count": 19,
     "metadata": {},
     "output_type": "execute_result"
    }
   ],
   "source": [
    "md_header_splits[1]"
   ]
  }
 ],
 "metadata": {
  "kernelspec": {
   "display_name": "Python 3",
   "language": "python",
   "name": "python3"
  },
  "language_info": {
   "codemirror_mode": {
    "name": "ipython",
    "version": 3
   },
   "file_extension": ".py",
   "mimetype": "text/x-python",
   "name": "python",
   "nbconvert_exporter": "python",
   "pygments_lexer": "ipython3",
   "version": "3.11.0rc1"
  }
 },
 "nbformat": 4,
 "nbformat_minor": 5
}
